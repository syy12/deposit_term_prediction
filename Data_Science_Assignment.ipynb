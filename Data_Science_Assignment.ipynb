{
  "nbformat": 4,
  "nbformat_minor": 0,
  "metadata": {
    "colab": {
      "name": "Data Science Assignment.ipynb",
      "provenance": [],
      "collapsed_sections": [],
      "include_colab_link": true
    },
    "kernelspec": {
      "name": "python3",
      "display_name": "Python 3"
    }
  },
  "cells": [
    {
      "cell_type": "markdown",
      "metadata": {
        "id": "view-in-github",
        "colab_type": "text"
      },
      "source": [
        "<a href=\"https://colab.research.google.com/github/syy12/deposit_term_prediction/blob/master/Data_Science_Assignment.ipynb\" target=\"_parent\"><img src=\"https://colab.research.google.com/assets/colab-badge.svg\" alt=\"Open In Colab\"/></a>"
      ]
    },
    {
      "cell_type": "markdown",
      "metadata": {
        "id": "KYp7IpiBE9Ud",
        "colab_type": "text"
      },
      "source": [
        "### A. Business Understanding"
      ]
    },
    {
      "cell_type": "markdown",
      "metadata": {
        "id": "mO2LU7ltFQSx",
        "colab_type": "text"
      },
      "source": [
        "#### 1. Objective\n",
        "\n",
        "> The goal is to find the best strategy for improvement for the next marketing campaign. Therefore, a Portuguese retail bank have been selected to analyse their last marketing campaign and determine the model that can help us to find conclusions so that financial institutions can play a more effective role in future marketing campaigns.\n",
        "\n",
        "#### 2. Project Plan\n",
        "\n",
        "> 2.1 The initial assessment of tools and techniques\n",
        ">> The data mining tools that we are using is python and it support a lot of model and method to process and extract the useful data. For example, python able to remove the column which is unuseful and modify the data from alphabetical to numerical. The modification make the data process will be more convenient and easy to fit in the training model. \n",
        "#### 3. Business success criteria\n",
        "\n",
        ">The success criteria is to predict whether the client is willing to subscribe a term deposit correctly or not.\n"
      ]
    },
    {
      "cell_type": "code",
      "metadata": {
        "id": "5omtC7YBZsli",
        "colab_type": "code",
        "colab": {
          "base_uri": "https://localhost:8080/",
          "height": 34
        },
        "outputId": "d99188d2-53c6-4b55-c4bc-d7a91d6eeafb"
      },
      "source": [
        "#using google colab, need to import from drive\n",
        "from google.colab import drive\n",
        "drive.mount('/content/drive')\n"
      ],
      "execution_count": null,
      "outputs": [
        {
          "output_type": "stream",
          "text": [
            "Drive already mounted at /content/drive; to attempt to forcibly remount, call drive.mount(\"/content/drive\", force_remount=True).\n"
          ],
          "name": "stdout"
        }
      ]
    },
    {
      "cell_type": "code",
      "metadata": {
        "id": "2u8_EEuVOQok",
        "colab_type": "code",
        "colab": {}
      },
      "source": [
        "#for matrix math\n",
        "import numpy as np\n",
        "\n",
        "#for data preprocessing\n",
        "import pandas as pd\n",
        "\n",
        "#split data for training and testing\n",
        "from sklearn.model_selection import train_test_split\n",
        "\n",
        "#for plotting\n",
        "import matplotlib.pyplot as plt   #graph\n",
        "import seaborn as sns             #style\n"
      ],
      "execution_count": null,
      "outputs": []
    },
    {
      "cell_type": "code",
      "metadata": {
        "id": "S8eOarwyaj_7",
        "colab_type": "code",
        "colab": {
          "base_uri": "https://localhost:8080/",
          "height": 195
        },
        "outputId": "ac11eb13-94dd-443b-dd5a-2e06718ae850"
      },
      "source": [
        "#import and read dataset\n",
        "data = pd.read_csv('/content/drive/My Drive/Colab Notebooks/bank.csv')\n",
        "\n",
        "#display first five rows\n",
        "data.head()"
      ],
      "execution_count": null,
      "outputs": [
        {
          "output_type": "execute_result",
          "data": {
            "text/html": [
              "<div>\n",
              "<style scoped>\n",
              "    .dataframe tbody tr th:only-of-type {\n",
              "        vertical-align: middle;\n",
              "    }\n",
              "\n",
              "    .dataframe tbody tr th {\n",
              "        vertical-align: top;\n",
              "    }\n",
              "\n",
              "    .dataframe thead th {\n",
              "        text-align: right;\n",
              "    }\n",
              "</style>\n",
              "<table border=\"1\" class=\"dataframe\">\n",
              "  <thead>\n",
              "    <tr style=\"text-align: right;\">\n",
              "      <th></th>\n",
              "      <th>age</th>\n",
              "      <th>job</th>\n",
              "      <th>marital</th>\n",
              "      <th>education</th>\n",
              "      <th>default</th>\n",
              "      <th>balance</th>\n",
              "      <th>housing</th>\n",
              "      <th>loan</th>\n",
              "      <th>contact</th>\n",
              "      <th>day</th>\n",
              "      <th>month</th>\n",
              "      <th>duration</th>\n",
              "      <th>campaign</th>\n",
              "      <th>pdays</th>\n",
              "      <th>previous</th>\n",
              "      <th>poutcome</th>\n",
              "      <th>deposit</th>\n",
              "    </tr>\n",
              "  </thead>\n",
              "  <tbody>\n",
              "    <tr>\n",
              "      <th>0</th>\n",
              "      <td>59</td>\n",
              "      <td>admin.</td>\n",
              "      <td>married</td>\n",
              "      <td>secondary</td>\n",
              "      <td>no</td>\n",
              "      <td>2343</td>\n",
              "      <td>yes</td>\n",
              "      <td>no</td>\n",
              "      <td>unknown</td>\n",
              "      <td>5</td>\n",
              "      <td>may</td>\n",
              "      <td>1042</td>\n",
              "      <td>1</td>\n",
              "      <td>-1</td>\n",
              "      <td>0</td>\n",
              "      <td>unknown</td>\n",
              "      <td>yes</td>\n",
              "    </tr>\n",
              "    <tr>\n",
              "      <th>1</th>\n",
              "      <td>56</td>\n",
              "      <td>admin.</td>\n",
              "      <td>married</td>\n",
              "      <td>secondary</td>\n",
              "      <td>no</td>\n",
              "      <td>45</td>\n",
              "      <td>no</td>\n",
              "      <td>no</td>\n",
              "      <td>unknown</td>\n",
              "      <td>5</td>\n",
              "      <td>may</td>\n",
              "      <td>1467</td>\n",
              "      <td>1</td>\n",
              "      <td>-1</td>\n",
              "      <td>0</td>\n",
              "      <td>unknown</td>\n",
              "      <td>yes</td>\n",
              "    </tr>\n",
              "    <tr>\n",
              "      <th>2</th>\n",
              "      <td>41</td>\n",
              "      <td>technician</td>\n",
              "      <td>married</td>\n",
              "      <td>secondary</td>\n",
              "      <td>no</td>\n",
              "      <td>1270</td>\n",
              "      <td>yes</td>\n",
              "      <td>no</td>\n",
              "      <td>unknown</td>\n",
              "      <td>5</td>\n",
              "      <td>may</td>\n",
              "      <td>1389</td>\n",
              "      <td>1</td>\n",
              "      <td>-1</td>\n",
              "      <td>0</td>\n",
              "      <td>unknown</td>\n",
              "      <td>yes</td>\n",
              "    </tr>\n",
              "    <tr>\n",
              "      <th>3</th>\n",
              "      <td>55</td>\n",
              "      <td>services</td>\n",
              "      <td>married</td>\n",
              "      <td>secondary</td>\n",
              "      <td>no</td>\n",
              "      <td>2476</td>\n",
              "      <td>yes</td>\n",
              "      <td>no</td>\n",
              "      <td>unknown</td>\n",
              "      <td>5</td>\n",
              "      <td>may</td>\n",
              "      <td>579</td>\n",
              "      <td>1</td>\n",
              "      <td>-1</td>\n",
              "      <td>0</td>\n",
              "      <td>unknown</td>\n",
              "      <td>yes</td>\n",
              "    </tr>\n",
              "    <tr>\n",
              "      <th>4</th>\n",
              "      <td>54</td>\n",
              "      <td>admin.</td>\n",
              "      <td>married</td>\n",
              "      <td>tertiary</td>\n",
              "      <td>no</td>\n",
              "      <td>184</td>\n",
              "      <td>no</td>\n",
              "      <td>no</td>\n",
              "      <td>unknown</td>\n",
              "      <td>5</td>\n",
              "      <td>may</td>\n",
              "      <td>673</td>\n",
              "      <td>2</td>\n",
              "      <td>-1</td>\n",
              "      <td>0</td>\n",
              "      <td>unknown</td>\n",
              "      <td>yes</td>\n",
              "    </tr>\n",
              "  </tbody>\n",
              "</table>\n",
              "</div>"
            ],
            "text/plain": [
              "   age         job  marital  education  ... pdays  previous poutcome deposit\n",
              "0   59      admin.  married  secondary  ...    -1         0  unknown     yes\n",
              "1   56      admin.  married  secondary  ...    -1         0  unknown     yes\n",
              "2   41  technician  married  secondary  ...    -1         0  unknown     yes\n",
              "3   55    services  married  secondary  ...    -1         0  unknown     yes\n",
              "4   54      admin.  married   tertiary  ...    -1         0  unknown     yes\n",
              "\n",
              "[5 rows x 17 columns]"
            ]
          },
          "metadata": {
            "tags": []
          },
          "execution_count": 217
        }
      ]
    },
    {
      "cell_type": "markdown",
      "metadata": {
        "id": "d2VUlNJ_Ey76",
        "colab_type": "text"
      },
      "source": [
        "### B. Data Understanding\n",
        "#### 1. Describe Data\n",
        "> Portuguese retail bank had provided a dataset which has 17 columns and with 11162 entries. The data types of the dataset include 7 columns of integer type, 6 columns of string type and 4 columns of boolean type.\n",
        "\n",
        "\n"
      ]
    },
    {
      "cell_type": "markdown",
      "metadata": {
        "id": "Yzr0EhHKdqD9",
        "colab_type": "text"
      },
      "source": [
        "### Feature\n",
        "####Integer type\n",
        "1. \"age\" - age in years\n",
        "2. \"balance\" - balance of the individual\n",
        "3. \"day\" - last contact day of the week\n",
        "4. \"duration\" - last contact duration, in seconds\n",
        "5. \"campaign\" - number of contacts performed **during** this campaign and for this client\n",
        "6. \"pdays\" - number of days that passed by after the client was last contacted from a previous campaign (value of 999 means the client was not previously contacted)\n",
        "7. \"previous\" - number of contacts performed **before** this campaign and for this client\n",
        "\n",
        "####Object type\n",
        "1. \"job\" - type of job\n",
        "2. \"marital\" - marital status\n",
        "3. \"education\" - education background\n",
        "4. \"default\" - having credit by default? \n",
        "5. \"housing\" - having housing loan?\n",
        "6. \"loan\" - having personal loan?\n",
        "7. \"contact\" - type of contact communication\n",
        "8. \"month\" - last contact month of the year\n",
        "9. \"poutcome\" - outcome of previous marketing campaign\n",
        "10. \"deposit\" - subscribing a term deposit?\n",
        "\n",
        "####Categorical Values\n",
        "* Nominal Values: \"job\", \"marital\", \"housing\", \"loan\", \"contact\", \"month\", \"poutcome\", \"deposit\"\n",
        "* Ordinal Values: \"education\"\n",
        "\n",
        "####Numerical Values\n",
        "* Interval Values: \"age\", \"day\", \"duration\", \"campaign\", \"pdays\", \"previous\"\n",
        "* Ratio Values: \"balance\"\n",
        "\n",
        "####Missing Values\n",
        "As in further investigation, there is no duplicated rows and missing values found in this dataset. If there exists missing values, we will assigned them with the median, mean or mode.\n",
        "\n",
        "####X variables\n",
        "All of the columns in the dataset are X variables except for \"deposit\".\n",
        "\n",
        "####Y variable\n",
        "The Y variable will be \"deposit\" which identify whether the client is interested in subscribing for a term deposit."
      ]
    },
    {
      "cell_type": "code",
      "metadata": {
        "id": "z-GI-_SEbVBc",
        "colab_type": "code",
        "colab": {
          "base_uri": "https://localhost:8080/",
          "height": 420
        },
        "outputId": "26494d22-d3ce-48bc-f0be-dc40a4a13200"
      },
      "source": [
        "#check data structure\n",
        "data.info()"
      ],
      "execution_count": null,
      "outputs": [
        {
          "output_type": "stream",
          "text": [
            "<class 'pandas.core.frame.DataFrame'>\n",
            "RangeIndex: 11162 entries, 0 to 11161\n",
            "Data columns (total 17 columns):\n",
            " #   Column     Non-Null Count  Dtype \n",
            "---  ------     --------------  ----- \n",
            " 0   age        11162 non-null  int64 \n",
            " 1   job        11162 non-null  object\n",
            " 2   marital    11162 non-null  object\n",
            " 3   education  11162 non-null  object\n",
            " 4   default    11162 non-null  object\n",
            " 5   balance    11162 non-null  int64 \n",
            " 6   housing    11162 non-null  object\n",
            " 7   loan       11162 non-null  object\n",
            " 8   contact    11162 non-null  object\n",
            " 9   day        11162 non-null  int64 \n",
            " 10  month      11162 non-null  object\n",
            " 11  duration   11162 non-null  int64 \n",
            " 12  campaign   11162 non-null  int64 \n",
            " 13  pdays      11162 non-null  int64 \n",
            " 14  previous   11162 non-null  int64 \n",
            " 15  poutcome   11162 non-null  object\n",
            " 16  deposit    11162 non-null  object\n",
            "dtypes: int64(7), object(10)\n",
            "memory usage: 1.4+ MB\n"
          ],
          "name": "stdout"
        }
      ]
    },
    {
      "cell_type": "code",
      "metadata": {
        "id": "k1X0znMabdsw",
        "colab_type": "code",
        "colab": {
          "base_uri": "https://localhost:8080/",
          "height": 34
        },
        "outputId": "166e3995-83ee-4113-94f8-a960a776140b"
      },
      "source": [
        "#display total number of rows and column\n",
        "data.shape"
      ],
      "execution_count": null,
      "outputs": [
        {
          "output_type": "execute_result",
          "data": {
            "text/plain": [
              "(11162, 17)"
            ]
          },
          "metadata": {
            "tags": []
          },
          "execution_count": 7
        }
      ]
    },
    {
      "cell_type": "code",
      "metadata": {
        "id": "9kfY3Sfgp9TC",
        "colab_type": "code",
        "colab": {
          "base_uri": "https://localhost:8080/",
          "height": 50
        },
        "outputId": "d2012d7e-bfff-4db9-a34e-793083a5b175"
      },
      "source": [
        "#check any duplicated rows and missing values\n",
        "print(\"Duplicated rows: \" + str(data.duplicated().sum()))\n",
        "print(\"Missing values: \" + str(data.isnull().sum().sum()))"
      ],
      "execution_count": null,
      "outputs": [
        {
          "output_type": "stream",
          "text": [
            "Duplicated rows: 0\n",
            "Missing values: 0\n"
          ],
          "name": "stdout"
        }
      ]
    },
    {
      "cell_type": "code",
      "metadata": {
        "id": "RYK07lJXcQtk",
        "colab_type": "code",
        "colab": {
          "base_uri": "https://localhost:8080/",
          "height": 284
        },
        "outputId": "f21233ac-8962-42e6-b693-df535a59203e"
      },
      "source": [
        "#describe numerical columns of the dataset\n",
        "data.describe()"
      ],
      "execution_count": null,
      "outputs": [
        {
          "output_type": "execute_result",
          "data": {
            "text/html": [
              "<div>\n",
              "<style scoped>\n",
              "    .dataframe tbody tr th:only-of-type {\n",
              "        vertical-align: middle;\n",
              "    }\n",
              "\n",
              "    .dataframe tbody tr th {\n",
              "        vertical-align: top;\n",
              "    }\n",
              "\n",
              "    .dataframe thead th {\n",
              "        text-align: right;\n",
              "    }\n",
              "</style>\n",
              "<table border=\"1\" class=\"dataframe\">\n",
              "  <thead>\n",
              "    <tr style=\"text-align: right;\">\n",
              "      <th></th>\n",
              "      <th>age</th>\n",
              "      <th>balance</th>\n",
              "      <th>day</th>\n",
              "      <th>duration</th>\n",
              "      <th>campaign</th>\n",
              "      <th>pdays</th>\n",
              "      <th>previous</th>\n",
              "    </tr>\n",
              "  </thead>\n",
              "  <tbody>\n",
              "    <tr>\n",
              "      <th>count</th>\n",
              "      <td>11162.000000</td>\n",
              "      <td>11162.000000</td>\n",
              "      <td>11162.000000</td>\n",
              "      <td>11162.000000</td>\n",
              "      <td>11162.000000</td>\n",
              "      <td>11162.000000</td>\n",
              "      <td>11162.000000</td>\n",
              "    </tr>\n",
              "    <tr>\n",
              "      <th>mean</th>\n",
              "      <td>41.231948</td>\n",
              "      <td>1528.538524</td>\n",
              "      <td>15.658036</td>\n",
              "      <td>371.993818</td>\n",
              "      <td>2.508421</td>\n",
              "      <td>51.330407</td>\n",
              "      <td>0.832557</td>\n",
              "    </tr>\n",
              "    <tr>\n",
              "      <th>std</th>\n",
              "      <td>11.913369</td>\n",
              "      <td>3225.413326</td>\n",
              "      <td>8.420740</td>\n",
              "      <td>347.128386</td>\n",
              "      <td>2.722077</td>\n",
              "      <td>108.758282</td>\n",
              "      <td>2.292007</td>\n",
              "    </tr>\n",
              "    <tr>\n",
              "      <th>min</th>\n",
              "      <td>18.000000</td>\n",
              "      <td>-6847.000000</td>\n",
              "      <td>1.000000</td>\n",
              "      <td>2.000000</td>\n",
              "      <td>1.000000</td>\n",
              "      <td>-1.000000</td>\n",
              "      <td>0.000000</td>\n",
              "    </tr>\n",
              "    <tr>\n",
              "      <th>25%</th>\n",
              "      <td>32.000000</td>\n",
              "      <td>122.000000</td>\n",
              "      <td>8.000000</td>\n",
              "      <td>138.000000</td>\n",
              "      <td>1.000000</td>\n",
              "      <td>-1.000000</td>\n",
              "      <td>0.000000</td>\n",
              "    </tr>\n",
              "    <tr>\n",
              "      <th>50%</th>\n",
              "      <td>39.000000</td>\n",
              "      <td>550.000000</td>\n",
              "      <td>15.000000</td>\n",
              "      <td>255.000000</td>\n",
              "      <td>2.000000</td>\n",
              "      <td>-1.000000</td>\n",
              "      <td>0.000000</td>\n",
              "    </tr>\n",
              "    <tr>\n",
              "      <th>75%</th>\n",
              "      <td>49.000000</td>\n",
              "      <td>1708.000000</td>\n",
              "      <td>22.000000</td>\n",
              "      <td>496.000000</td>\n",
              "      <td>3.000000</td>\n",
              "      <td>20.750000</td>\n",
              "      <td>1.000000</td>\n",
              "    </tr>\n",
              "    <tr>\n",
              "      <th>max</th>\n",
              "      <td>95.000000</td>\n",
              "      <td>81204.000000</td>\n",
              "      <td>31.000000</td>\n",
              "      <td>3881.000000</td>\n",
              "      <td>63.000000</td>\n",
              "      <td>854.000000</td>\n",
              "      <td>58.000000</td>\n",
              "    </tr>\n",
              "  </tbody>\n",
              "</table>\n",
              "</div>"
            ],
            "text/plain": [
              "                age       balance  ...         pdays      previous\n",
              "count  11162.000000  11162.000000  ...  11162.000000  11162.000000\n",
              "mean      41.231948   1528.538524  ...     51.330407      0.832557\n",
              "std       11.913369   3225.413326  ...    108.758282      2.292007\n",
              "min       18.000000  -6847.000000  ...     -1.000000      0.000000\n",
              "25%       32.000000    122.000000  ...     -1.000000      0.000000\n",
              "50%       39.000000    550.000000  ...     -1.000000      0.000000\n",
              "75%       49.000000   1708.000000  ...     20.750000      1.000000\n",
              "max       95.000000  81204.000000  ...    854.000000     58.000000\n",
              "\n",
              "[8 rows x 7 columns]"
            ]
          },
          "metadata": {
            "tags": []
          },
          "execution_count": 9
        }
      ]
    },
    {
      "cell_type": "code",
      "metadata": {
        "id": "Ii4z3b5JcZ2I",
        "colab_type": "code",
        "colab": {
          "base_uri": "https://localhost:8080/",
          "height": 386
        },
        "outputId": "c068c3c5-8eda-4d94-9fe7-e0c902eee363"
      },
      "source": [
        "#display value from categorical columns\n",
        "for col in data.select_dtypes(include='object').columns:\n",
        "  print(col)\n",
        "  print(data[col].unique())\n"
      ],
      "execution_count": null,
      "outputs": [
        {
          "output_type": "stream",
          "text": [
            "job\n",
            "['admin.' 'technician' 'services' 'management' 'retired' 'blue-collar'\n",
            " 'unemployed' 'entrepreneur' 'housemaid' 'unknown' 'self-employed'\n",
            " 'student']\n",
            "marital\n",
            "['married' 'single' 'divorced']\n",
            "education\n",
            "['secondary' 'tertiary' 'primary' 'unknown']\n",
            "default\n",
            "['no' 'yes']\n",
            "housing\n",
            "['yes' 'no']\n",
            "loan\n",
            "['no' 'yes']\n",
            "contact\n",
            "['unknown' 'cellular' 'telephone']\n",
            "month\n",
            "['may' 'jun' 'jul' 'aug' 'oct' 'nov' 'dec' 'jan' 'feb' 'mar' 'apr' 'sep']\n",
            "poutcome\n",
            "['unknown' 'other' 'failure' 'success']\n",
            "deposit\n",
            "['yes' 'no']\n"
          ],
          "name": "stdout"
        }
      ]
    },
    {
      "cell_type": "markdown",
      "metadata": {
        "id": "pIdamqM3e43u",
        "colab_type": "text"
      },
      "source": [
        "As stated above that the 'deposit' will be the Y-variable in this dataset, therefore the remaining from the categorical columns will be considered as the categorical features. There are a total of 9 categorical features where both 'job' and 'month' having the highest number of categorical values which is 12.\n",
        "</br></br>\n",
        "<table style='border:1px solid black;'>\n",
        "  <tr style='font-size: 20px;'>\n",
        "      <th style='text-align: center;border: 1px solid black;'>Categorical Feature</th>\n",
        "      <th style='text-align: center;border: 1px solid black;'>Number of Category</th> \n",
        "  </tr>\n",
        "  <tr style='font-size: 14px;'>\n",
        "      <td style='text-align: left;border: 1px solid black;'>Job</td>\n",
        "      <td style='text-align: center; border: 1px solid black;'>12</td>\n",
        "  </tr>\n",
        "  <tr style='font-size: 14px;'>\n",
        "      <td style='text-align: left;border: 1px solid black;'>Marital</td>\n",
        "      <td style='text-align: center;border: 1px solid black;'>3</td>\n",
        "  </tr>\n",
        "  <tr style='font-size: 14px;'>\n",
        "      <td style='text-align: left;border: 1px solid black;'>Education</td> \n",
        "      <td style='text-align: center;border: 1px solid black;'>4</td> \n",
        "  </tr>\n",
        "  <tr style='font-size: 14px;'>\n",
        "      <td style='text-align: left;border: 1px solid black;'>Default</td> \n",
        "      <td style='text-align: center;border: 1px solid black;'>2</td> \n",
        "  </tr>\n",
        "  <tr style='font-size: 14px;'>\n",
        "      <td style='text-align: left;border: 1px solid black;'>Housing</td> \n",
        "      <td style='text-align: center;border: 1px solid black;'>2</td> \n",
        "  </tr>\n",
        "  <tr style='font-size: 14px;'>\n",
        "      <td style='text-align: left;border: 1px solid black;'>Loan</td> \n",
        "      <td style='text-align: center;border: 1px solid black;'>2</td> \n",
        "  </tr>\n",
        "  <tr style='font-size: 14px;'>\n",
        "      <td style='text-align: left;border: 1px solid black;'>Contact</td> \n",
        "      <td style='text-align: center;border: 1px solid black;'>3</td> \n",
        "  </tr>\n",
        "  <tr style='font-size: 14px;'>\n",
        "      <td style='text-align: left;border: 1px solid black;'>Month</td> \n",
        "      <td style='text-align: center;border: 1px solid black;'>12</td> \n",
        "  </tr>\n",
        "  <tr style='font-size: 14px;'>\n",
        "      <td style='text-align: left;border: 1px solid black;'>Poutcome</td> \n",
        "      <td style='text-align: center;border: 1px solid black;'>4</td> \n",
        "  </tr>\n",
        "</table>"
      ]
    },
    {
      "cell_type": "code",
      "metadata": {
        "id": "ooBSZTrNlm7q",
        "colab_type": "code",
        "colab": {
          "base_uri": "https://localhost:8080/",
          "height": 1000
        },
        "outputId": "fce7b6b0-82e7-4b0e-973e-0a1a235fd475"
      },
      "source": [
        "#Explore the Categorical Features\n",
        "#Visualise the categorical Features\n",
        "plt.figure(figsize=(20,15), facecolor='white')\n",
        "\n",
        "#plot graph by job\n",
        "plt.subplot(331)\n",
        "sns.countplot(y = data['job'])\n",
        "plt.title(\"Job\", fontsize=20)\n",
        "\n",
        "#plot graph by marital\n",
        "plt.subplot(332)\n",
        "sns.countplot(y = data['marital'])\n",
        "plt.title(\"Marital\", fontsize=20)\n",
        "\n",
        "#plot graph by education\n",
        "plt.subplot(333)\n",
        "sns.countplot(y = data['education'])\n",
        "plt.title(\"Education\", fontsize=20)\n",
        "\n",
        "#plot graph by default\n",
        "plt.subplot(334)\n",
        "sns.countplot(y = data['default'])\n",
        "plt.title(\"Default\", fontsize=20)\n",
        "\n",
        "#plot graph by housing\n",
        "plt.subplot(335)\n",
        "sns.countplot(y = data['housing'])\n",
        "plt.title(\"Housing\", fontsize=20)\n",
        "\n",
        "#plot graph by loan\n",
        "plt.subplot(336)\n",
        "sns.countplot(y = data['loan'])\n",
        "plt.title(\"Loan\", fontsize=20)\n",
        "\n",
        "#plot graph by contact\n",
        "plt.subplot(337)\n",
        "sns.countplot(y = data['contact'])\n",
        "plt.title(\"Contact\", fontsize=20)\n",
        "\n",
        "#plot graph by month\n",
        "plt.subplot(338)\n",
        "sns.countplot(y = data['month'])\n",
        "plt.title(\"Month\", fontsize=20)\n",
        "\n",
        "#plot graph by poutcome\n",
        "plt.subplot(339)\n",
        "sns.countplot(y = data['poutcome'])\n",
        "plt.title(\"Poutcome\", fontsize=20)\n",
        "\n",
        "plt.tight_layout()\n",
        "plt.show()"
      ],
      "execution_count": null,
      "outputs": [
        {
          "output_type": "display_data",
          "data": {
            "image/png": "[encoded data removed]",
            "text/plain": [
              "<Figure size 1440x1080 with 9 Axes>"
            ]
          },
          "metadata": {
            "tags": []
          }
        }
      ]
    },
    {
      "cell_type": "markdown",
      "metadata": {
        "id": "bG43mXOIoFxI",
        "colab_type": "text"
      },
      "source": [
        "We can clearly see from the graphs, majority of the client which having a job related with management is more likely to be interested in subscribing for a term deposit while the housemaid are having the least number which are interested.\n",
        "\n",
        "Besides, the marital status of the client which are married having a high record in this dataset and the client which already divorced having the least number.\n",
        "\n",
        "Moreover, most of the client are having the secondary education background within this dataset.\n",
        "\n",
        "Lastly, it is obvious that in the month of May there are many clients received calls from the bank and in December is the least."
      ]
    },
    {
      "cell_type": "code",
      "metadata": {
        "id": "j0MJGtfpdPoS",
        "colab_type": "code",
        "colab": {
          "base_uri": "https://localhost:8080/",
          "height": 363
        },
        "outputId": "bda6a5fe-bef8-4d97-bf99-23ad9491a028"
      },
      "source": [
        "#Explore the Numerical Features\n",
        "#Display the list of numerical variables\n",
        "numeric_category=[]\n",
        "for numeric in data.select_dtypes(include='int').columns:\n",
        "  print(numeric)\n",
        "  numeric_category.append(numeric)\n",
        "\n",
        "print('\\nThere are',len(numeric_category),'numerical category.\\n')\n",
        "\n",
        "#display first 5 rows of numerical variables data\n",
        "data[numeric_category].head()"
      ],
      "execution_count": null,
      "outputs": [
        {
          "output_type": "stream",
          "text": [
            "age\n",
            "balance\n",
            "day\n",
            "duration\n",
            "campaign\n",
            "pdays\n",
            "previous\n",
            "\n",
            "There are 7 numerical category.\n",
            "\n"
          ],
          "name": "stdout"
        },
        {
          "output_type": "execute_result",
          "data": {
            "text/html": [
              "<div>\n",
              "<style scoped>\n",
              "    .dataframe tbody tr th:only-of-type {\n",
              "        vertical-align: middle;\n",
              "    }\n",
              "\n",
              "    .dataframe tbody tr th {\n",
              "        vertical-align: top;\n",
              "    }\n",
              "\n",
              "    .dataframe thead th {\n",
              "        text-align: right;\n",
              "    }\n",
              "</style>\n",
              "<table border=\"1\" class=\"dataframe\">\n",
              "  <thead>\n",
              "    <tr style=\"text-align: right;\">\n",
              "      <th></th>\n",
              "      <th>age</th>\n",
              "      <th>balance</th>\n",
              "      <th>day</th>\n",
              "      <th>duration</th>\n",
              "      <th>campaign</th>\n",
              "      <th>pdays</th>\n",
              "      <th>previous</th>\n",
              "    </tr>\n",
              "  </thead>\n",
              "  <tbody>\n",
              "    <tr>\n",
              "      <th>0</th>\n",
              "      <td>59</td>\n",
              "      <td>2343</td>\n",
              "      <td>5</td>\n",
              "      <td>1042</td>\n",
              "      <td>1</td>\n",
              "      <td>-1</td>\n",
              "      <td>0</td>\n",
              "    </tr>\n",
              "    <tr>\n",
              "      <th>1</th>\n",
              "      <td>56</td>\n",
              "      <td>45</td>\n",
              "      <td>5</td>\n",
              "      <td>1467</td>\n",
              "      <td>1</td>\n",
              "      <td>-1</td>\n",
              "      <td>0</td>\n",
              "    </tr>\n",
              "    <tr>\n",
              "      <th>2</th>\n",
              "      <td>41</td>\n",
              "      <td>1270</td>\n",
              "      <td>5</td>\n",
              "      <td>1389</td>\n",
              "      <td>1</td>\n",
              "      <td>-1</td>\n",
              "      <td>0</td>\n",
              "    </tr>\n",
              "    <tr>\n",
              "      <th>3</th>\n",
              "      <td>55</td>\n",
              "      <td>2476</td>\n",
              "      <td>5</td>\n",
              "      <td>579</td>\n",
              "      <td>1</td>\n",
              "      <td>-1</td>\n",
              "      <td>0</td>\n",
              "    </tr>\n",
              "    <tr>\n",
              "      <th>4</th>\n",
              "      <td>54</td>\n",
              "      <td>184</td>\n",
              "      <td>5</td>\n",
              "      <td>673</td>\n",
              "      <td>2</td>\n",
              "      <td>-1</td>\n",
              "      <td>0</td>\n",
              "    </tr>\n",
              "  </tbody>\n",
              "</table>\n",
              "</div>"
            ],
            "text/plain": [
              "   age  balance  day  duration  campaign  pdays  previous\n",
              "0   59     2343    5      1042         1     -1         0\n",
              "1   56       45    5      1467         1     -1         0\n",
              "2   41     1270    5      1389         1     -1         0\n",
              "3   55     2476    5       579         1     -1         0\n",
              "4   54      184    5       673         2     -1         0"
            ]
          },
          "metadata": {
            "tags": []
          },
          "execution_count": 13
        }
      ]
    },
    {
      "cell_type": "code",
      "metadata": {
        "id": "SiiDy2ScgVQm",
        "colab_type": "code",
        "colab": {
          "base_uri": "https://localhost:8080/",
          "height": 720
        },
        "outputId": "0ae8c7d6-02fd-4157-df76-704ceec74af7"
      },
      "source": [
        "#Visualise the all the numerical features using boxplot to find outliers\n",
        "plt.figure(figsize=(20,10), facecolor='white')\n",
        "\n",
        "#plot graph by age\n",
        "plt.subplot(331)\n",
        "sns.boxplot(data['age'])\n",
        "plt.title(\"Age\", fontsize=20)\n",
        "\n",
        "#plot graph by balance\n",
        "plt.subplot(332)\n",
        "sns.boxplot(data['balance'])\n",
        "plt.title(\"Balance\", fontsize=20)\n",
        "\n",
        "#plot graph by day\n",
        "plt.subplot(333)\n",
        "sns.boxplot(data['day'])\n",
        "plt.title(\"Day\", fontsize=20)\n",
        "\n",
        "#plot graph by duration\n",
        "plt.subplot(334)\n",
        "sns.boxplot(data['duration'])\n",
        "plt.title(\"Duration\", fontsize=20)\n",
        "\n",
        "#plot graph by campaign\n",
        "plt.subplot(335)\n",
        "sns.boxplot(data['campaign'])\n",
        "plt.title(\"Campaign\", fontsize=20)\n",
        "\n",
        "#plot graph by pdays\n",
        "plt.subplot(336)\n",
        "sns.boxplot(data['pdays'])\n",
        "plt.title(\"PDays\", fontsize=20)\n",
        "\n",
        "#plot graph by previous\n",
        "plt.subplot(337)\n",
        "sns.boxplot(data['previous'])\n",
        "plt.title(\"Previous\", fontsize=20)\n",
        "\n",
        "plt.tight_layout()\n",
        "plt.show()"
      ],
      "execution_count": null,
      "outputs": [
        {
          "output_type": "display_data",
          "data": {
            "image/png": "[encoded data removed]",
            "text/plain": [
              "<Figure size 1440x720 with 7 Axes>"
            ]
          },
          "metadata": {
            "tags": []
          }
        }
      ]
    },
    {
      "cell_type": "markdown",
      "metadata": {
        "id": "boWEHyZNa7Xf",
        "colab_type": "text"
      },
      "source": [
        "From the result of the boxplots, we can observe that all of the numerical category contain many outliers except for 'days'."
      ]
    },
    {
      "cell_type": "code",
      "metadata": {
        "id": "_vL1GEcEhCAK",
        "colab_type": "code",
        "colab": {
          "base_uri": "https://localhost:8080/",
          "height": 449
        },
        "outputId": "d115cb5c-1c37-46ab-f10a-81684706fb9a"
      },
      "source": [
        "#Explore the correlation between numerical features\n",
        "#Check for correlation\n",
        "cor_mat=data.corr()\n",
        "fig = plt.figure(figsize=(10,7),facecolor='white')\n",
        "sns.heatmap(cor_mat,annot=True)"
      ],
      "execution_count": null,
      "outputs": [
        {
          "output_type": "execute_result",
          "data": {
            "text/plain": [
              "<matplotlib.axes._subplots.AxesSubplot at 0x7f359fab9fd0>"
            ]
          },
          "metadata": {
            "tags": []
          },
          "execution_count": 15
        },
        {
          "output_type": "display_data",
          "data": {
            "image/png": "[encoded data removed]",
            "text/plain": [
              "<Figure size 720x504 with 2 Axes>"
            ]
          },
          "metadata": {
            "tags": []
          }
        }
      ]
    },
    {
      "cell_type": "code",
      "metadata": {
        "id": "q4vLtGEYhVAo",
        "colab_type": "code",
        "colab": {
          "base_uri": "https://localhost:8080/",
          "height": 543
        },
        "outputId": "bb7b82ad-5e32-4079-c9b1-53951cf8805e"
      },
      "source": [
        "#Show the number of 'deposit' for each of the category value\n",
        "print(data['deposit'].groupby(data['deposit']).count())\n",
        "print()\n",
        "#visualise it using graph\n",
        "plt.figure(figsize=(5,7),facecolor='white')\n",
        "sns.countplot(data['deposit'])"
      ],
      "execution_count": null,
      "outputs": [
        {
          "output_type": "stream",
          "text": [
            "deposit\n",
            "no     5873\n",
            "yes    5289\n",
            "Name: deposit, dtype: int64\n",
            "\n"
          ],
          "name": "stdout"
        },
        {
          "output_type": "execute_result",
          "data": {
            "text/plain": [
              "<matplotlib.axes._subplots.AxesSubplot at 0x7f357a23aac8>"
            ]
          },
          "metadata": {
            "tags": []
          },
          "execution_count": 16
        },
        {
          "output_type": "display_data",
          "data": {
            "image/png": "[encoded data removed]",
            "text/plain": [
              "<Figure size 360x504 with 1 Axes>"
            ]
          },
          "metadata": {
            "tags": []
          }
        }
      ]
    },
    {
      "cell_type": "markdown",
      "metadata": {
        "id": "vIaXEpILEzPv",
        "colab_type": "text"
      },
      "source": [
        "### C. Data Preparation\n",
        "\n",
        "clean data, handle outliers, data transformation"
      ]
    },
    {
      "cell_type": "code",
      "metadata": {
        "id": "4JF2F2AJHpNj",
        "colab_type": "code",
        "colab": {
          "base_uri": "https://localhost:8080/",
          "height": 343
        },
        "outputId": "9baf19c8-b9cf-44c0-9a3d-c0eead7b696d"
      },
      "source": [
        "#Clear data and Convert categorical variable to numeric\n",
        "#\"job\", \"marital\", \"housing\", \"loan\", \"contact\", \"month\", \"poutcome\", \"deposit\",\"education\",\"default\"\n",
        "data['deposit']=data['deposit'].map({'yes':1,'no':0,'unknown':-1})\n",
        "data['default']=data['default'].map({'yes':1,'no':0,'unknown':-1})\n",
        "data['education']=pd.Categorical(data['education']).codes\n",
        "data['job']=pd.Categorical(data['job']).codes\n",
        "data['marital']=pd.Categorical(data['marital']).codes\n",
        "data['housing']=pd.Categorical(data['housing']).codes\n",
        "data['loan']=pd.Categorical(data['loan']).codes\n",
        "data['contact']=pd.Categorical(data['contact']).codes\n",
        "data['month']=pd.Categorical(data['month']).codes\n",
        "data['poutcome']=pd.Categorical(data['poutcome']).codes\n",
        "\n",
        "#display first ten rows\n",
        "data.head(10)"
      ],
      "execution_count": null,
      "outputs": [
        {
          "output_type": "execute_result",
          "data": {
            "text/html": [
              "<div>\n",
              "<style scoped>\n",
              "    .dataframe tbody tr th:only-of-type {\n",
              "        vertical-align: middle;\n",
              "    }\n",
              "\n",
              "    .dataframe tbody tr th {\n",
              "        vertical-align: top;\n",
              "    }\n",
              "\n",
              "    .dataframe thead th {\n",
              "        text-align: right;\n",
              "    }\n",
              "</style>\n",
              "<table border=\"1\" class=\"dataframe\">\n",
              "  <thead>\n",
              "    <tr style=\"text-align: right;\">\n",
              "      <th></th>\n",
              "      <th>age</th>\n",
              "      <th>job</th>\n",
              "      <th>marital</th>\n",
              "      <th>education</th>\n",
              "      <th>default</th>\n",
              "      <th>balance</th>\n",
              "      <th>housing</th>\n",
              "      <th>loan</th>\n",
              "      <th>contact</th>\n",
              "      <th>day</th>\n",
              "      <th>month</th>\n",
              "      <th>duration</th>\n",
              "      <th>campaign</th>\n",
              "      <th>pdays</th>\n",
              "      <th>previous</th>\n",
              "      <th>poutcome</th>\n",
              "      <th>deposit</th>\n",
              "    </tr>\n",
              "  </thead>\n",
              "  <tbody>\n",
              "    <tr>\n",
              "      <th>0</th>\n",
              "      <td>59</td>\n",
              "      <td>0</td>\n",
              "      <td>1</td>\n",
              "      <td>1</td>\n",
              "      <td>0</td>\n",
              "      <td>2343</td>\n",
              "      <td>1</td>\n",
              "      <td>0</td>\n",
              "      <td>2</td>\n",
              "      <td>5</td>\n",
              "      <td>8</td>\n",
              "      <td>1042</td>\n",
              "      <td>1</td>\n",
              "      <td>-1</td>\n",
              "      <td>0</td>\n",
              "      <td>3</td>\n",
              "      <td>1</td>\n",
              "    </tr>\n",
              "    <tr>\n",
              "      <th>1</th>\n",
              "      <td>56</td>\n",
              "      <td>0</td>\n",
              "      <td>1</td>\n",
              "      <td>1</td>\n",
              "      <td>0</td>\n",
              "      <td>45</td>\n",
              "      <td>0</td>\n",
              "      <td>0</td>\n",
              "      <td>2</td>\n",
              "      <td>5</td>\n",
              "      <td>8</td>\n",
              "      <td>1467</td>\n",
              "      <td>1</td>\n",
              "      <td>-1</td>\n",
              "      <td>0</td>\n",
              "      <td>3</td>\n",
              "      <td>1</td>\n",
              "    </tr>\n",
              "    <tr>\n",
              "      <th>2</th>\n",
              "      <td>41</td>\n",
              "      <td>9</td>\n",
              "      <td>1</td>\n",
              "      <td>1</td>\n",
              "      <td>0</td>\n",
              "      <td>1270</td>\n",
              "      <td>1</td>\n",
              "      <td>0</td>\n",
              "      <td>2</td>\n",
              "      <td>5</td>\n",
              "      <td>8</td>\n",
              "      <td>1389</td>\n",
              "      <td>1</td>\n",
              "      <td>-1</td>\n",
              "      <td>0</td>\n",
              "      <td>3</td>\n",
              "      <td>1</td>\n",
              "    </tr>\n",
              "    <tr>\n",
              "      <th>3</th>\n",
              "      <td>55</td>\n",
              "      <td>7</td>\n",
              "      <td>1</td>\n",
              "      <td>1</td>\n",
              "      <td>0</td>\n",
              "      <td>2476</td>\n",
              "      <td>1</td>\n",
              "      <td>0</td>\n",
              "      <td>2</td>\n",
              "      <td>5</td>\n",
              "      <td>8</td>\n",
              "      <td>579</td>\n",
              "      <td>1</td>\n",
              "      <td>-1</td>\n",
              "      <td>0</td>\n",
              "      <td>3</td>\n",
              "      <td>1</td>\n",
              "    </tr>\n",
              "    <tr>\n",
              "      <th>4</th>\n",
              "      <td>54</td>\n",
              "      <td>0</td>\n",
              "      <td>1</td>\n",
              "      <td>2</td>\n",
              "      <td>0</td>\n",
              "      <td>184</td>\n",
              "      <td>0</td>\n",
              "      <td>0</td>\n",
              "      <td>2</td>\n",
              "      <td>5</td>\n",
              "      <td>8</td>\n",
              "      <td>673</td>\n",
              "      <td>2</td>\n",
              "      <td>-1</td>\n",
              "      <td>0</td>\n",
              "      <td>3</td>\n",
              "      <td>1</td>\n",
              "    </tr>\n",
              "    <tr>\n",
              "      <th>5</th>\n",
              "      <td>42</td>\n",
              "      <td>4</td>\n",
              "      <td>2</td>\n",
              "      <td>2</td>\n",
              "      <td>0</td>\n",
              "      <td>0</td>\n",
              "      <td>1</td>\n",
              "      <td>1</td>\n",
              "      <td>2</td>\n",
              "      <td>5</td>\n",
              "      <td>8</td>\n",
              "      <td>562</td>\n",
              "      <td>2</td>\n",
              "      <td>-1</td>\n",
              "      <td>0</td>\n",
              "      <td>3</td>\n",
              "      <td>1</td>\n",
              "    </tr>\n",
              "    <tr>\n",
              "      <th>6</th>\n",
              "      <td>56</td>\n",
              "      <td>4</td>\n",
              "      <td>1</td>\n",
              "      <td>2</td>\n",
              "      <td>0</td>\n",
              "      <td>830</td>\n",
              "      <td>1</td>\n",
              "      <td>1</td>\n",
              "      <td>2</td>\n",
              "      <td>6</td>\n",
              "      <td>8</td>\n",
              "      <td>1201</td>\n",
              "      <td>1</td>\n",
              "      <td>-1</td>\n",
              "      <td>0</td>\n",
              "      <td>3</td>\n",
              "      <td>1</td>\n",
              "    </tr>\n",
              "    <tr>\n",
              "      <th>7</th>\n",
              "      <td>60</td>\n",
              "      <td>5</td>\n",
              "      <td>0</td>\n",
              "      <td>1</td>\n",
              "      <td>0</td>\n",
              "      <td>545</td>\n",
              "      <td>1</td>\n",
              "      <td>0</td>\n",
              "      <td>2</td>\n",
              "      <td>6</td>\n",
              "      <td>8</td>\n",
              "      <td>1030</td>\n",
              "      <td>1</td>\n",
              "      <td>-1</td>\n",
              "      <td>0</td>\n",
              "      <td>3</td>\n",
              "      <td>1</td>\n",
              "    </tr>\n",
              "    <tr>\n",
              "      <th>8</th>\n",
              "      <td>37</td>\n",
              "      <td>9</td>\n",
              "      <td>1</td>\n",
              "      <td>1</td>\n",
              "      <td>0</td>\n",
              "      <td>1</td>\n",
              "      <td>1</td>\n",
              "      <td>0</td>\n",
              "      <td>2</td>\n",
              "      <td>6</td>\n",
              "      <td>8</td>\n",
              "      <td>608</td>\n",
              "      <td>1</td>\n",
              "      <td>-1</td>\n",
              "      <td>0</td>\n",
              "      <td>3</td>\n",
              "      <td>1</td>\n",
              "    </tr>\n",
              "    <tr>\n",
              "      <th>9</th>\n",
              "      <td>28</td>\n",
              "      <td>7</td>\n",
              "      <td>2</td>\n",
              "      <td>1</td>\n",
              "      <td>0</td>\n",
              "      <td>5090</td>\n",
              "      <td>1</td>\n",
              "      <td>0</td>\n",
              "      <td>2</td>\n",
              "      <td>6</td>\n",
              "      <td>8</td>\n",
              "      <td>1297</td>\n",
              "      <td>3</td>\n",
              "      <td>-1</td>\n",
              "      <td>0</td>\n",
              "      <td>3</td>\n",
              "      <td>1</td>\n",
              "    </tr>\n",
              "  </tbody>\n",
              "</table>\n",
              "</div>"
            ],
            "text/plain": [
              "   age  job  marital  education  ...  pdays  previous  poutcome  deposit\n",
              "0   59    0        1          1  ...     -1         0         3        1\n",
              "1   56    0        1          1  ...     -1         0         3        1\n",
              "2   41    9        1          1  ...     -1         0         3        1\n",
              "3   55    7        1          1  ...     -1         0         3        1\n",
              "4   54    0        1          2  ...     -1         0         3        1\n",
              "5   42    4        2          2  ...     -1         0         3        1\n",
              "6   56    4        1          2  ...     -1         0         3        1\n",
              "7   60    5        0          1  ...     -1         0         3        1\n",
              "8   37    9        1          1  ...     -1         0         3        1\n",
              "9   28    7        2          1  ...     -1         0         3        1\n",
              "\n",
              "[10 rows x 17 columns]"
            ]
          },
          "metadata": {
            "tags": []
          },
          "execution_count": 99
        }
      ]
    },
    {
      "cell_type": "code",
      "metadata": {
        "id": "9LZYmd0fMzJT",
        "colab_type": "code",
        "colab": {
          "base_uri": "https://localhost:8080/",
          "height": 958
        },
        "outputId": "566bd5c1-f1ce-403a-e107-bbe14c6d1e4a"
      },
      "source": [
        "data.groupby(['deposit','previous'],sort=True)['previous'].count()\n"
      ],
      "execution_count": null,
      "outputs": [
        {
          "output_type": "execute_result",
          "data": {
            "text/plain": [
              "deposit  previous\n",
              "0        0           4940\n",
              "         1            304\n",
              "         2            237\n",
              "         3            141\n",
              "         4             73\n",
              "         5             44\n",
              "         6             34\n",
              "         7             23\n",
              "         8             21\n",
              "         9             10\n",
              "         10             4\n",
              "         11             8\n",
              "         12             6\n",
              "         13             2\n",
              "         14             1\n",
              "         15             4\n",
              "         16             2\n",
              "         17             8\n",
              "         18             1\n",
              "         19             2\n",
              "         20             1\n",
              "         23             1\n",
              "         27             2\n",
              "         28             1\n",
              "         37             1\n",
              "         40             1\n",
              "         41             1\n",
              "1        0           3384\n",
              "         1            583\n",
              "         2            456\n",
              "         3            294\n",
              "         4            171\n",
              "         5            121\n",
              "         6             83\n",
              "         7             54\n",
              "         8             39\n",
              "         9             24\n",
              "         10            26\n",
              "         11            15\n",
              "         12            10\n",
              "         13             9\n",
              "         14             5\n",
              "         15             1\n",
              "         17             3\n",
              "         19             2\n",
              "         20             1\n",
              "         21             1\n",
              "         22             1\n",
              "         23             1\n",
              "         26             1\n",
              "         29             1\n",
              "         30             1\n",
              "         55             1\n",
              "         58             1\n",
              "Name: previous, dtype: int64"
            ]
          },
          "metadata": {
            "tags": []
          },
          "execution_count": 112
        }
      ]
    },
    {
      "cell_type": "code",
      "metadata": {
        "id": "LIdgO1tDhRUL",
        "colab_type": "code",
        "colab": {
          "base_uri": "https://localhost:8080/",
          "height": 296
        },
        "outputId": "acb440fc-50d2-4a43-dba2-658f9ac8b5cc"
      },
      "source": [
        "df1 = data.loc[data.deposit==0,['deposit','previous']]\n",
        "df1 = df1.rename(columns={'deposit':'No deposit'})\n",
        "df2 = data.loc[data.deposit==1,['deposit','previous']]\n",
        "df2 = df2.rename(columns={'deposit':'Yes deposit'})\n",
        "\n",
        "p1 = df1.groupby(['previous']).count()\n",
        "p2 = df2.groupby(['previous']).count()\n",
        "\n",
        "#visualise it using graph\n",
        "ax = p1.plot(kind='line')\n",
        "p2.plot(ax=ax)"
      ],
      "execution_count": null,
      "outputs": [
        {
          "output_type": "execute_result",
          "data": {
            "text/plain": [
              "<matplotlib.axes._subplots.AxesSubplot at 0x7f356aac2390>"
            ]
          },
          "metadata": {
            "tags": []
          },
          "execution_count": 204
        },
        {
          "output_type": "display_data",
          "data": {
            "image/png": "[encoded data removed]",
            "text/plain": [
              "<Figure size 432x288 with 1 Axes>"
            ]
          },
          "metadata": {
            "tags": [],
            "needs_background": "light"
          }
        }
      ]
    },
    {
      "cell_type": "code",
      "metadata": {
        "id": "1krmKICROg4f",
        "colab_type": "code",
        "colab": {
          "base_uri": "https://localhost:8080/",
          "height": 1000
        },
        "outputId": "92064a58-d6cf-43c1-d00f-7f9f62e8803b"
      },
      "source": [
        "data.groupby(['deposit','campaign'],sort=True)['campaign'].count()\n"
      ],
      "execution_count": null,
      "outputs": [
        {
          "output_type": "execute_result",
          "data": {
            "text/plain": [
              "deposit  campaign\n",
              "0        1           2237\n",
              "         2           1627\n",
              "         3            703\n",
              "         4            454\n",
              "         5            239\n",
              "         6            173\n",
              "         7             92\n",
              "         8             96\n",
              "         9             51\n",
              "         10            38\n",
              "         11            24\n",
              "         12            25\n",
              "         13            24\n",
              "         14            11\n",
              "         15             9\n",
              "         16             7\n",
              "         17             8\n",
              "         18             8\n",
              "         19             5\n",
              "         20             4\n",
              "         21             7\n",
              "         22             4\n",
              "         23             3\n",
              "         24             4\n",
              "         25             3\n",
              "         26             3\n",
              "         27             1\n",
              "         28             1\n",
              "         29             1\n",
              "         30             4\n",
              "         31             1\n",
              "         32             1\n",
              "         33             1\n",
              "         41             1\n",
              "         43             2\n",
              "         63             1\n",
              "1        1           2561\n",
              "         2           1401\n",
              "         3            618\n",
              "         4            317\n",
              "         5            139\n",
              "         6             92\n",
              "         7             47\n",
              "         8             32\n",
              "         9             21\n",
              "         10            14\n",
              "         11            16\n",
              "         12             4\n",
              "         13             6\n",
              "         14             4\n",
              "         15             4\n",
              "         16             2\n",
              "         17             6\n",
              "         20             1\n",
              "         21             1\n",
              "         24             1\n",
              "         29             1\n",
              "         32             1\n",
              "Name: campaign, dtype: int64"
            ]
          },
          "metadata": {
            "tags": []
          },
          "execution_count": 15
        }
      ]
    },
    {
      "cell_type": "code",
      "metadata": {
        "id": "RnW2tCDAl35z",
        "colab_type": "code",
        "colab": {
          "base_uri": "https://localhost:8080/",
          "height": 296
        },
        "outputId": "a885bddc-f495-432b-80c2-b9badf6a5eb0"
      },
      "source": [
        "df1 = data.loc[data.deposit==0,['deposit','campaign']]\n",
        "df1 = df1.rename(columns={'deposit':'No deposit'})\n",
        "df2 = data.loc[data.deposit==1,['deposit','campaign']]\n",
        "df2 = df2.rename(columns={'deposit':'Yes deposit'})\n",
        "\n",
        "p1 = df1.groupby(['campaign']).count()\n",
        "p2 = df2.groupby(['campaign']).count()\n",
        "\n",
        "#visualise it using graph\n",
        "ax = p1.plot(kind='line')\n",
        "p2.plot(ax=ax)"
      ],
      "execution_count": null,
      "outputs": [
        {
          "output_type": "execute_result",
          "data": {
            "text/plain": [
              "<matplotlib.axes._subplots.AxesSubplot at 0x7f356aa12a90>"
            ]
          },
          "metadata": {
            "tags": []
          },
          "execution_count": 208
        },
        {
          "output_type": "display_data",
          "data": {
            "image/png": "[encoded data removed]",
            "text/plain": [
              "<Figure size 432x288 with 1 Axes>"
            ]
          },
          "metadata": {
            "tags": [],
            "needs_background": "light"
          }
        }
      ]
    },
    {
      "cell_type": "code",
      "metadata": {
        "id": "SnfkjWju4X0m",
        "colab_type": "code",
        "colab": {
          "base_uri": "https://localhost:8080/",
          "height": 235
        },
        "outputId": "0e33e75e-0d39-4dd3-935a-808e23297896"
      },
      "source": [
        "data.groupby(['deposit','pdays'],sort=True)['pdays'].count()\n"
      ],
      "execution_count": null,
      "outputs": [
        {
          "output_type": "execute_result",
          "data": {
            "text/plain": [
              "deposit  pdays\n",
              "0        -1       4940\n",
              "          1          2\n",
              "          2          6\n",
              "          5          2\n",
              "          6          2\n",
              "                  ... \n",
              "1         804        1\n",
              "          805        1\n",
              "          828        1\n",
              "          842        1\n",
              "          854        1\n",
              "Name: pdays, Length: 732, dtype: int64"
            ]
          },
          "metadata": {
            "tags": []
          },
          "execution_count": 213
        }
      ]
    },
    {
      "cell_type": "code",
      "metadata": {
        "id": "D4JqD-MtmNWw",
        "colab_type": "code",
        "colab": {
          "base_uri": "https://localhost:8080/",
          "height": 296
        },
        "outputId": "1f12ee73-1449-4e2f-c02d-9a746efe3dc3"
      },
      "source": [
        "df1 = data.loc[data.deposit==0,['deposit','pdays']]\n",
        "df1 = df1.rename(columns={'deposit':'No deposit'})\n",
        "df2 = data.loc[data.deposit==1,['deposit','pdays']]\n",
        "df2 = df2.rename(columns={'deposit':'Yes deposit'})\n",
        "\n",
        "p1 = df1.groupby(['pdays']).count()\n",
        "p2 = df2.groupby(['pdays']).count()\n",
        "\n",
        "#visualise it using graph\n",
        "ax = p1.plot(kind='line')\n",
        "p2.plot(ax=ax)"
      ],
      "execution_count": null,
      "outputs": [
        {
          "output_type": "execute_result",
          "data": {
            "text/plain": [
              "<matplotlib.axes._subplots.AxesSubplot at 0x7f356bb86ba8>"
            ]
          },
          "metadata": {
            "tags": []
          },
          "execution_count": 212
        },
        {
          "output_type": "display_data",
          "data": {
            "image/png": "[encoded data removed]",
            "text/plain": [
              "<Figure size 432x288 with 1 Axes>"
            ]
          },
          "metadata": {
            "tags": [],
            "needs_background": "light"
          }
        }
      ]
    },
    {
      "cell_type": "markdown",
      "metadata": {
        "id": "KqKgdvp8kFHw",
        "colab_type": "text"
      },
      "source": [
        "As the result for 'pdays' with number of -1 is around 4933, we decided to drop the column 'pdays'."
      ]
    },
    {
      "cell_type": "code",
      "metadata": {
        "id": "CJ7j87frIRDq",
        "colab_type": "code",
        "colab": {
          "base_uri": "https://localhost:8080/",
          "height": 34
        },
        "outputId": "42c60548-487a-4833-f785-33d59532e15e"
      },
      "source": [
        "#remove outliers where 'previous' is more than 30\n",
        "data=data[data.previous<30]\n",
        "\n",
        "#remove outliers where 'campaign' is more than 31\n",
        "data=data[data.campaign<31]\n",
        "\n",
        "#drop 'pdays'\n",
        "data=data.drop(['pdays'],axis=1)\n",
        "data.shape"
      ],
      "execution_count": null,
      "outputs": [
        {
          "output_type": "execute_result",
          "data": {
            "text/plain": [
              "(11148, 16)"
            ]
          },
          "metadata": {
            "tags": []
          },
          "execution_count": 218
        }
      ]
    },
    {
      "cell_type": "code",
      "metadata": {
        "id": "21cmqRatJU60",
        "colab_type": "code",
        "colab": {
          "base_uri": "https://localhost:8080/",
          "height": 215
        },
        "outputId": "1d8856c4-4218-4354-831a-44ac812e8eca"
      },
      "source": [
        "data.head()"
      ],
      "execution_count": null,
      "outputs": [
        {
          "output_type": "execute_result",
          "data": {
            "text/html": [
              "<div>\n",
              "<style scoped>\n",
              "    .dataframe tbody tr th:only-of-type {\n",
              "        vertical-align: middle;\n",
              "    }\n",
              "\n",
              "    .dataframe tbody tr th {\n",
              "        vertical-align: top;\n",
              "    }\n",
              "\n",
              "    .dataframe thead th {\n",
              "        text-align: right;\n",
              "    }\n",
              "</style>\n",
              "<table border=\"1\" class=\"dataframe\">\n",
              "  <thead>\n",
              "    <tr style=\"text-align: right;\">\n",
              "      <th></th>\n",
              "      <th>age</th>\n",
              "      <th>job</th>\n",
              "      <th>marital</th>\n",
              "      <th>education</th>\n",
              "      <th>default</th>\n",
              "      <th>balance</th>\n",
              "      <th>housing</th>\n",
              "      <th>loan</th>\n",
              "      <th>contact</th>\n",
              "      <th>day</th>\n",
              "      <th>month</th>\n",
              "      <th>duration</th>\n",
              "      <th>campaign</th>\n",
              "      <th>previous</th>\n",
              "      <th>poutcome</th>\n",
              "      <th>deposit</th>\n",
              "    </tr>\n",
              "  </thead>\n",
              "  <tbody>\n",
              "    <tr>\n",
              "      <th>0</th>\n",
              "      <td>59</td>\n",
              "      <td>0</td>\n",
              "      <td>1</td>\n",
              "      <td>1</td>\n",
              "      <td>0</td>\n",
              "      <td>2343</td>\n",
              "      <td>1</td>\n",
              "      <td>0</td>\n",
              "      <td>2</td>\n",
              "      <td>5</td>\n",
              "      <td>8</td>\n",
              "      <td>1042</td>\n",
              "      <td>1</td>\n",
              "      <td>0</td>\n",
              "      <td>3</td>\n",
              "      <td>1</td>\n",
              "    </tr>\n",
              "    <tr>\n",
              "      <th>1</th>\n",
              "      <td>56</td>\n",
              "      <td>0</td>\n",
              "      <td>1</td>\n",
              "      <td>1</td>\n",
              "      <td>0</td>\n",
              "      <td>45</td>\n",
              "      <td>0</td>\n",
              "      <td>0</td>\n",
              "      <td>2</td>\n",
              "      <td>5</td>\n",
              "      <td>8</td>\n",
              "      <td>1467</td>\n",
              "      <td>1</td>\n",
              "      <td>0</td>\n",
              "      <td>3</td>\n",
              "      <td>1</td>\n",
              "    </tr>\n",
              "    <tr>\n",
              "      <th>2</th>\n",
              "      <td>41</td>\n",
              "      <td>9</td>\n",
              "      <td>1</td>\n",
              "      <td>1</td>\n",
              "      <td>0</td>\n",
              "      <td>1270</td>\n",
              "      <td>1</td>\n",
              "      <td>0</td>\n",
              "      <td>2</td>\n",
              "      <td>5</td>\n",
              "      <td>8</td>\n",
              "      <td>1389</td>\n",
              "      <td>1</td>\n",
              "      <td>0</td>\n",
              "      <td>3</td>\n",
              "      <td>1</td>\n",
              "    </tr>\n",
              "    <tr>\n",
              "      <th>3</th>\n",
              "      <td>55</td>\n",
              "      <td>7</td>\n",
              "      <td>1</td>\n",
              "      <td>1</td>\n",
              "      <td>0</td>\n",
              "      <td>2476</td>\n",
              "      <td>1</td>\n",
              "      <td>0</td>\n",
              "      <td>2</td>\n",
              "      <td>5</td>\n",
              "      <td>8</td>\n",
              "      <td>579</td>\n",
              "      <td>1</td>\n",
              "      <td>0</td>\n",
              "      <td>3</td>\n",
              "      <td>1</td>\n",
              "    </tr>\n",
              "    <tr>\n",
              "      <th>4</th>\n",
              "      <td>54</td>\n",
              "      <td>0</td>\n",
              "      <td>1</td>\n",
              "      <td>2</td>\n",
              "      <td>0</td>\n",
              "      <td>184</td>\n",
              "      <td>0</td>\n",
              "      <td>0</td>\n",
              "      <td>2</td>\n",
              "      <td>5</td>\n",
              "      <td>8</td>\n",
              "      <td>673</td>\n",
              "      <td>2</td>\n",
              "      <td>0</td>\n",
              "      <td>3</td>\n",
              "      <td>1</td>\n",
              "    </tr>\n",
              "  </tbody>\n",
              "</table>\n",
              "</div>"
            ],
            "text/plain": [
              "   age  job  marital  education  ...  campaign  previous  poutcome  deposit\n",
              "0   59    0        1          1  ...         1         0         3        1\n",
              "1   56    0        1          1  ...         1         0         3        1\n",
              "2   41    9        1          1  ...         1         0         3        1\n",
              "3   55    7        1          1  ...         1         0         3        1\n",
              "4   54    0        1          2  ...         2         0         3        1\n",
              "\n",
              "[5 rows x 16 columns]"
            ]
          },
          "metadata": {
            "tags": []
          },
          "execution_count": 18
        }
      ]
    },
    {
      "cell_type": "markdown",
      "metadata": {
        "id": "G21rnG-aEzhm",
        "colab_type": "text"
      },
      "source": [
        "### D. Modelling\n",
        "\n",
        "\n"
      ]
    },
    {
      "cell_type": "markdown",
      "metadata": {
        "id": "Q7GMGuFsXVN0",
        "colab_type": "text"
      },
      "source": [
        "### Split Data\n",
        "The dataset will be split into training set and testing set. The training set is 80% of the dataset , and the testing set is 20% of the dataset."
      ]
    },
    {
      "cell_type": "code",
      "metadata": {
        "id": "lTCQAskNDwLM",
        "colab_type": "code",
        "colab": {}
      },
      "source": [
        "#Split data\n",
        "from sklearn.model_selection import train_test_split\n",
        "from sklearn.preprocessing import StandardScaler\n",
        "from sklearn.ensemble import RandomForestRegressor\n",
        "from sklearn import metrics\n",
        "from sklearn.preprocessing import LabelEncoder\n",
        "from sklearn.metrics import confusion_matrix\n",
        "from sklearn.metrics import classification_report\n",
        "le = LabelEncoder()\n",
        "X = data.drop(['deposit'],axis=1)\n",
        "y = data['deposit']\n",
        "\n",
        "X_train, X_test, y_train, y_test = train_test_split(X, y, test_size=0.2, random_state=0)"
      ],
      "execution_count": null,
      "outputs": []
    },
    {
      "cell_type": "markdown",
      "metadata": {
        "id": "p8Fl8Dd5o_IC",
        "colab_type": "text"
      },
      "source": [
        "####Confusion Matrix\n",
        "\n",
        "The main function for confusion matrix is to evaluate how well the model is performing when classifying the potential clients to subscribe term deposit in this case. There will be four terms in confusion matrix which are True Positive, False Positive, True Negative and False Negative.\n",
        "\n",
        "For **True/False**, this means whether is correctly or incorrecly classified by the model. While for **Positive/Negative** is refer to the 'deposit' where to know that the client is subscribing for term deposit or not.\n",
        "\n",
        "**True Positive:** The number of **correctly** classified for potential clients which is **willing** to subscribe a term deposit.\n",
        "\n",
        "**False Positive:** The number of **incorrectly** classified for potential clients which is **willing** to subscribe a term deposit.\n",
        "\n",
        "**True Negative:** The number of **correctly** classified for potential clients which is **not willing** to subscribe a term deposit.\n",
        "\n",
        "**False Negative:** The number of **incorrectly** classified for potential clients which is **not willing** to subscribe a term deposit."
      ]
    },
    {
      "cell_type": "markdown",
      "metadata": {
        "id": "cR0-cUURZKRt",
        "colab_type": "text"
      },
      "source": [
        "### Algorithm\n",
        "There are 6 supervised learning algorithms have been selected to model the dataset in order to find the best modelling technique."
      ]
    },
    {
      "cell_type": "markdown",
      "metadata": {
        "id": "Itf5zsZ7XFJ_",
        "colab_type": "text"
      },
      "source": [
        "##### **Random Forest**"
      ]
    },
    {
      "cell_type": "code",
      "metadata": {
        "id": "jBpASd37QinW",
        "colab_type": "code",
        "colab": {
          "base_uri": "https://localhost:8080/",
          "height": 202
        },
        "outputId": "63a513dc-a31a-4fd6-b968-67890b0e1255"
      },
      "source": [
        "#random forest\n",
        "from sklearn.ensemble import RandomForestClassifier\n",
        "RF = RandomForestClassifier(max_features=5, n_estimators=20)\n",
        "#train model\n",
        "RF.fit(X_train, y_train)\n",
        "from sklearn.metrics import mean_squared_error, r2_score\n",
        "from sklearn.metrics import accuracy_score\n",
        "#test remaining model\n",
        "y_pred = RF.predict(X_test)\n",
        "print(confusion_matrix(y_test,y_pred.round()))\n",
        "print(classification_report(y_test,y_pred.round()))\n"
      ],
      "execution_count": null,
      "outputs": [
        {
          "output_type": "stream",
          "text": [
            "[[970 217]\n",
            " [167 876]]\n",
            "              precision    recall  f1-score   support\n",
            "\n",
            "           0       0.85      0.82      0.83      1187\n",
            "           1       0.80      0.84      0.82      1043\n",
            "\n",
            "    accuracy                           0.83      2230\n",
            "   macro avg       0.83      0.83      0.83      2230\n",
            "weighted avg       0.83      0.83      0.83      2230\n",
            "\n"
          ],
          "name": "stdout"
        }
      ]
    },
    {
      "cell_type": "code",
      "metadata": {
        "id": "9Bb94G7SgnMP",
        "colab_type": "code",
        "colab": {
          "base_uri": "https://localhost:8080/",
          "height": 379
        },
        "outputId": "357762e0-40b7-4bf3-89db-fa445ee9ccd7"
      },
      "source": [
        "cm=confusion_matrix(y_test,y_pred)\n",
        "fig = plt.figure(figsize=(5,5),facecolor='white')\n",
        "plt.clf()\n",
        "plt.imshow(cm, interpolation='nearest', cmap = plt.cm.Wistia)\n",
        "classNames = ['Negative','Positive']\n",
        "plt.title('Random Forest')\n",
        "plt.ylabel('True label')\n",
        "plt.xlabel('Predicted label')\n",
        "tick_marks = np.arange(len(classNames))\n",
        "plt.xticks(tick_marks, classNames, rotation=45)\n",
        "plt.yticks(tick_marks, classNames)\n",
        "s = [['TN', 'FP'],['FN', 'TP']]\n",
        "for i in range(2):\n",
        "  for j in range(2):\n",
        "    plt.text(j, i, str(s[i][j] + \" = \" + str(cm[i][j])))\n",
        "plt.show()"
      ],
      "execution_count": null,
      "outputs": [
        {
          "output_type": "display_data",
          "data": {
            "image/png": "[encoded data removed]",
            "text/plain": [
              "<Figure size 360x360 with 1 Axes>"
            ]
          },
          "metadata": {
            "tags": []
          }
        }
      ]
    },
    {
      "cell_type": "markdown",
      "metadata": {
        "id": "xC2GLJDJXQYf",
        "colab_type": "text"
      },
      "source": [
        "##### **Support Vector Classifier (SVC)**"
      ]
    },
    {
      "cell_type": "code",
      "metadata": {
        "id": "MGvwIIkTReA0",
        "colab_type": "code",
        "colab": {
          "base_uri": "https://localhost:8080/",
          "height": 202
        },
        "outputId": "b1bff318-196d-44b6-c460-d719f20dd2ac"
      },
      "source": [
        "#SVC\n",
        "from sklearn.svm import SVC\n",
        "svc=SVC(probability=True)\n",
        "svc.fit(X_train,y_train)\n",
        "y_pred=svc.predict(X_test)\n",
        "print(confusion_matrix(y_test,y_pred.round()))\n",
        "print(classification_report(y_test,y_pred.round()))"
      ],
      "execution_count": null,
      "outputs": [
        {
          "output_type": "stream",
          "text": [
            "[[983 204]\n",
            " [442 601]]\n",
            "              precision    recall  f1-score   support\n",
            "\n",
            "           0       0.69      0.83      0.75      1187\n",
            "           1       0.75      0.58      0.65      1043\n",
            "\n",
            "    accuracy                           0.71      2230\n",
            "   macro avg       0.72      0.70      0.70      2230\n",
            "weighted avg       0.72      0.71      0.70      2230\n",
            "\n"
          ],
          "name": "stdout"
        }
      ]
    },
    {
      "cell_type": "code",
      "metadata": {
        "id": "1Bw8aBcEj4Dl",
        "colab_type": "code",
        "colab": {
          "base_uri": "https://localhost:8080/",
          "height": 379
        },
        "outputId": "4b7664cd-490b-4a0d-a8bd-a4ad62d6e71e"
      },
      "source": [
        "cm=confusion_matrix(y_test,y_pred)\n",
        "fig = plt.figure(figsize=(5,5),facecolor='white')\n",
        "plt.clf()\n",
        "plt.imshow(cm, interpolation='nearest', cmap = plt.cm.Wistia)\n",
        "classNames = ['Negative','Positive']\n",
        "plt.title('SVC')\n",
        "plt.ylabel('True label')\n",
        "plt.xlabel('Predicted label')\n",
        "tick_marks = np.arange(len(classNames))\n",
        "plt.xticks(tick_marks, classNames, rotation=45)\n",
        "plt.yticks(tick_marks, classNames)\n",
        "s = [['TN', 'FP'],['FN', 'TP']]\n",
        "for i in range(2):\n",
        "  for j in range(2):\n",
        "    plt.text(j, i, str(s[i][j] + \" = \" + str(cm[i][j])))\n",
        "plt.show()"
      ],
      "execution_count": null,
      "outputs": [
        {
          "output_type": "display_data",
          "data": {
            "image/png": "[encoded data removed]",
            "text/plain": [
              "<Figure size 360x360 with 1 Axes>"
            ]
          },
          "metadata": {
            "tags": []
          }
        }
      ]
    },
    {
      "cell_type": "markdown",
      "metadata": {
        "id": "mud6KGruXXuj",
        "colab_type": "text"
      },
      "source": [
        "##### **Naive Bayes**"
      ]
    },
    {
      "cell_type": "code",
      "metadata": {
        "id": "27UsaPC4XgeN",
        "colab_type": "code",
        "colab": {
          "base_uri": "https://localhost:8080/",
          "height": 202
        },
        "outputId": "af37169c-b46d-4dbf-eadf-0ec03a417ade"
      },
      "source": [
        "#Naive Bayes\n",
        "from sklearn.naive_bayes import GaussianNB\n",
        "\n",
        "\n",
        "NB = GaussianNB()\n",
        "NB.fit(X_train,y_train)\n",
        "y_pred = NB.predict(X_test)\n",
        "print(confusion_matrix(y_test,y_pred))\n",
        "print(classification_report(y_test,y_pred))"
      ],
      "execution_count": null,
      "outputs": [
        {
          "output_type": "stream",
          "text": [
            "[[847 340]\n",
            " [226 817]]\n",
            "              precision    recall  f1-score   support\n",
            "\n",
            "           0       0.79      0.71      0.75      1187\n",
            "           1       0.71      0.78      0.74      1043\n",
            "\n",
            "    accuracy                           0.75      2230\n",
            "   macro avg       0.75      0.75      0.75      2230\n",
            "weighted avg       0.75      0.75      0.75      2230\n",
            "\n"
          ],
          "name": "stdout"
        }
      ]
    },
    {
      "cell_type": "code",
      "metadata": {
        "id": "sSBkbty2kpZH",
        "colab_type": "code",
        "colab": {
          "base_uri": "https://localhost:8080/",
          "height": 379
        },
        "outputId": "7b264609-6e38-45c0-cea8-5f4ddf154e9c"
      },
      "source": [
        "cm=confusion_matrix(y_test,y_pred)\n",
        "fig = plt.figure(figsize=(5,5),facecolor='white')\n",
        "plt.clf()\n",
        "plt.imshow(cm, interpolation='nearest', cmap = plt.cm.Wistia)\n",
        "classNames = ['Negative','Positive']\n",
        "plt.title('Naive Bayes')\n",
        "plt.ylabel('True label')\n",
        "plt.xlabel('Predicted label')\n",
        "tick_marks = np.arange(len(classNames))\n",
        "plt.xticks(tick_marks, classNames, rotation=45)\n",
        "plt.yticks(tick_marks, classNames)\n",
        "s = [['TN', 'FP'],['FN', 'TP']]\n",
        "for i in range(2):\n",
        "  for j in range(2):\n",
        "    plt.text(j, i, str(s[i][j] + \" = \" + str(cm[i][j])))\n",
        "plt.show()"
      ],
      "execution_count": null,
      "outputs": [
        {
          "output_type": "display_data",
          "data": {
            "image/png": "[encoded data removed]",
            "text/plain": [
              "<Figure size 360x360 with 1 Axes>"
            ]
          },
          "metadata": {
            "tags": []
          }
        }
      ]
    },
    {
      "cell_type": "markdown",
      "metadata": {
        "id": "zRniEgX0XeLV",
        "colab_type": "text"
      },
      "source": [
        "##### **K-nearest neighbors (KNN)**"
      ]
    },
    {
      "cell_type": "code",
      "metadata": {
        "id": "R3J9AoRStOHl",
        "colab_type": "code",
        "colab": {
          "base_uri": "https://localhost:8080/",
          "height": 202
        },
        "outputId": "43f7748b-1e9e-41ef-ec6c-ab0c24452fc4"
      },
      "source": [
        "#KNN\n",
        "from sklearn.neighbors import KNeighborsClassifier\n",
        "knn = KNeighborsClassifier(n_neighbors = 20)\n",
        "knn.fit(X_train, y_train)\n",
        "y_pred = knn.predict(X_test)\n",
        "knn.score(X_test, y_test)\n",
        "print(confusion_matrix(y_test,y_pred))\n",
        "print(classification_report(y_test,y_pred))"
      ],
      "execution_count": null,
      "outputs": [
        {
          "output_type": "stream",
          "text": [
            "[[902 285]\n",
            " [366 677]]\n",
            "              precision    recall  f1-score   support\n",
            "\n",
            "           0       0.71      0.76      0.73      1187\n",
            "           1       0.70      0.65      0.68      1043\n",
            "\n",
            "    accuracy                           0.71      2230\n",
            "   macro avg       0.71      0.70      0.71      2230\n",
            "weighted avg       0.71      0.71      0.71      2230\n",
            "\n"
          ],
          "name": "stdout"
        }
      ]
    },
    {
      "cell_type": "code",
      "metadata": {
        "id": "O-i9_GNMnDdM",
        "colab_type": "code",
        "colab": {
          "base_uri": "https://localhost:8080/",
          "height": 379
        },
        "outputId": "10cff27c-5a6b-4f15-e189-5f3917c36ba3"
      },
      "source": [
        "cm=confusion_matrix(y_test,y_pred)\n",
        "fig = plt.figure(figsize=(5,5),facecolor='white')\n",
        "plt.clf()\n",
        "plt.imshow(cm, interpolation='nearest', cmap = plt.cm.Wistia)\n",
        "classNames = ['Negative','Positive']\n",
        "plt.title('KNN')\n",
        "plt.ylabel('True label')\n",
        "plt.xlabel('Predicted label')\n",
        "tick_marks = np.arange(len(classNames))\n",
        "plt.xticks(tick_marks, classNames, rotation=45)\n",
        "plt.yticks(tick_marks, classNames)\n",
        "s = [['TN', 'FP'],['FN', 'TP']]\n",
        "for i in range(2):\n",
        "  for j in range(2):\n",
        "    plt.text(j, i, str(s[i][j] + \" = \" + str(cm[i][j])))\n",
        "plt.show()"
      ],
      "execution_count": null,
      "outputs": [
        {
          "output_type": "display_data",
          "data": {
            "image/png": "[encoded data removed]",
            "text/plain": [
              "<Figure size 360x360 with 1 Axes>"
            ]
          },
          "metadata": {
            "tags": []
          }
        }
      ]
    },
    {
      "cell_type": "markdown",
      "metadata": {
        "id": "_hhg5Z3DXiCW",
        "colab_type": "text"
      },
      "source": [
        "##### **Logistic Regression**"
      ]
    },
    {
      "cell_type": "code",
      "metadata": {
        "id": "4X1bNu4Mtmui",
        "colab_type": "code",
        "colab": {
          "base_uri": "https://localhost:8080/",
          "height": 202
        },
        "outputId": "4898d256-a526-447b-f663-dd634d78d460"
      },
      "source": [
        "#Logstic Regression\n",
        "from sklearn.linear_model import LogisticRegression\n",
        "logistic = LogisticRegression(max_iter=1000)\n",
        "logistic.fit(X_train,y_train)\n",
        "y_pred = logistic.predict(X_test)\n",
        "logistic.score(X_test, y_test)\n",
        "print(confusion_matrix(y_test,y_pred))\n",
        "print(classification_report(y_test,y_pred))"
      ],
      "execution_count": null,
      "outputs": [
        {
          "output_type": "stream",
          "text": [
            "[[945 242]\n",
            " [256 787]]\n",
            "              precision    recall  f1-score   support\n",
            "\n",
            "           0       0.79      0.80      0.79      1187\n",
            "           1       0.76      0.75      0.76      1043\n",
            "\n",
            "    accuracy                           0.78      2230\n",
            "   macro avg       0.78      0.78      0.78      2230\n",
            "weighted avg       0.78      0.78      0.78      2230\n",
            "\n"
          ],
          "name": "stdout"
        }
      ]
    },
    {
      "cell_type": "code",
      "metadata": {
        "id": "dnPO4r5LnKcn",
        "colab_type": "code",
        "colab": {
          "base_uri": "https://localhost:8080/",
          "height": 379
        },
        "outputId": "d049dfe6-ead5-44c4-f38b-512372dafed3"
      },
      "source": [
        "cm=confusion_matrix(y_test,y_pred)\n",
        "fig = plt.figure(figsize=(5,5),facecolor='white')\n",
        "plt.clf()\n",
        "plt.imshow(cm, interpolation='nearest', cmap = plt.cm.Wistia)\n",
        "classNames = ['Negative','Positive']\n",
        "plt.title('Logistic Regression')\n",
        "plt.ylabel('True label')\n",
        "plt.xlabel('Predicted label')\n",
        "tick_marks = np.arange(len(classNames))\n",
        "plt.xticks(tick_marks, classNames, rotation=45)\n",
        "plt.yticks(tick_marks, classNames)\n",
        "s = [['TN', 'FP'],['FN', 'TP']]\n",
        "for i in range(2):\n",
        "  for j in range(2):\n",
        "    plt.text(j, i, str(s[i][j] + \" = \" + str(cm[i][j])))\n",
        "plt.show()"
      ],
      "execution_count": null,
      "outputs": [
        {
          "output_type": "display_data",
          "data": {
            "image/png": "[encoded data removed]",
            "text/plain": [
              "<Figure size 360x360 with 1 Axes>"
            ]
          },
          "metadata": {
            "tags": []
          }
        }
      ]
    },
    {
      "cell_type": "markdown",
      "metadata": {
        "id": "3-4iHGaaXozp",
        "colab_type": "text"
      },
      "source": [
        "##### **Decision Tree**"
      ]
    },
    {
      "cell_type": "code",
      "metadata": {
        "id": "Zwkje_e4upNe",
        "colab_type": "code",
        "colab": {
          "base_uri": "https://localhost:8080/",
          "height": 202
        },
        "outputId": "fbfa9341-b379-4667-fb4e-fcb3f8d4a4bb"
      },
      "source": [
        "#Decision Tree\n",
        "from sklearn.tree import DecisionTreeClassifier\n",
        "\n",
        "dtc = DecisionTreeClassifier()\n",
        "dtc = dtc.fit(X_train,y_train)\n",
        "y_pred = dtc.predict(X_test)\n",
        "print(confusion_matrix(y_test,y_pred))\n",
        "print(classification_report(y_test,y_pred))"
      ],
      "execution_count": null,
      "outputs": [
        {
          "output_type": "stream",
          "text": [
            "[[954 233]\n",
            " [260 783]]\n",
            "              precision    recall  f1-score   support\n",
            "\n",
            "           0       0.79      0.80      0.79      1187\n",
            "           1       0.77      0.75      0.76      1043\n",
            "\n",
            "    accuracy                           0.78      2230\n",
            "   macro avg       0.78      0.78      0.78      2230\n",
            "weighted avg       0.78      0.78      0.78      2230\n",
            "\n"
          ],
          "name": "stdout"
        }
      ]
    },
    {
      "cell_type": "code",
      "metadata": {
        "id": "RG335WjToHQp",
        "colab_type": "code",
        "colab": {
          "base_uri": "https://localhost:8080/",
          "height": 379
        },
        "outputId": "cbea8efb-ad42-4536-e2c6-947fa0c97938"
      },
      "source": [
        "cm=confusion_matrix(y_test,y_pred)\n",
        "fig = plt.figure(figsize=(5,5),facecolor='white')\n",
        "plt.clf()\n",
        "plt.imshow(cm, interpolation='nearest', cmap = plt.cm.Wistia)\n",
        "classNames = ['Negative','Positive']\n",
        "plt.title('Decision Tree')\n",
        "plt.ylabel('True label')\n",
        "plt.xlabel('Predicted label')\n",
        "tick_marks = np.arange(len(classNames))\n",
        "plt.xticks(tick_marks, classNames, rotation=45)\n",
        "plt.yticks(tick_marks, classNames)\n",
        "s = [['TN', 'FP'],['FN', 'TP']]\n",
        "for i in range(2):\n",
        "  for j in range(2):\n",
        "    plt.text(j, i, str(s[i][j] + \" = \" + str(cm[i][j])))\n",
        "plt.show()"
      ],
      "execution_count": null,
      "outputs": [
        {
          "output_type": "display_data",
          "data": {
            "image/png": "[encoded data removed]",
            "text/plain": [
              "<Figure size 360x360 with 1 Axes>"
            ]
          },
          "metadata": {
            "tags": []
          }
        }
      ]
    },
    {
      "cell_type": "markdown",
      "metadata": {
        "id": "b9P6ulBSRGX5",
        "colab_type": "text"
      },
      "source": [
        "### ROC Curve\n",
        "Reciever Operating Characteristic (ROC) curve is often used as visualizations to measure the performance of binary classifiers. It is a graphical representation of true positive rates (TPR) and false positive rates (FPR) at various classification thresholds from 0 to 1. When the observations for each class are approximately equal the ROC curve should be used."
      ]
    },
    {
      "cell_type": "markdown",
      "metadata": {
        "id": "aL2N4NmZdV-o",
        "colab_type": "text"
      },
      "source": [
        "##### Predict Probability"
      ]
    },
    {
      "cell_type": "code",
      "metadata": {
        "id": "-Y4pjL6QRJXv",
        "colab_type": "code",
        "colab": {}
      },
      "source": [
        "#prediction probablility\n",
        "r_probs = [0 for _ in range(len(y_test))]\n",
        "rf_probs = RF.predict_proba(X_test)\n",
        "nb_probs = NB.predict_proba(X_test)\n",
        "svc_probs = svc.predict_proba(X_test)\n",
        "knn_probs = knn.predict_proba(X_test)\n",
        "logistic_probs = logistic.predict(X_test)\n",
        "dtc_probs = dtc.predict_proba(X_test)\n",
        "\n",
        "#probabilities for the positive outcome is kept\n",
        "rf_probs = rf_probs[:, 1]\n",
        "nb_probs = nb_probs[:, 1]\n",
        "svc_probs = svc_probs[:, 1]\n",
        "knn_probs = knn_probs[:, 1]\n",
        "dtc_probs = dtc_probs[:, 1]"
      ],
      "execution_count": null,
      "outputs": []
    },
    {
      "cell_type": "markdown",
      "metadata": {
        "id": "Sov2ADlrdaFb",
        "colab_type": "text"
      },
      "source": [
        "##### Calculate the ROC curve and the AUROC socre. AUROC score is the area under the ROC curve."
      ]
    },
    {
      "cell_type": "code",
      "metadata": {
        "id": "a8oX_c7PV7Zl",
        "colab_type": "code",
        "colab": {}
      },
      "source": [
        "from sklearn.metrics import roc_curve, roc_auc_score\n",
        "\n",
        "#calculate ROC curve\n",
        "r_fpr, r_tpr, _ = roc_curve(y_test, r_probs)\n",
        "rf_fpr, rf_tpr, _ = roc_curve(y_test, rf_probs)\n",
        "nb_fpr, nb_tpr, _ = roc_curve(y_test, nb_probs)\n",
        "svc_fpr, svc_tpr, _ = roc_curve(y_test, svc_probs)\n",
        "knn_fpr, knn_tpr, _ = roc_curve(y_test, knn_probs)\n",
        "log_fpr, log_tpr, _ = roc_curve(y_test, logistic_probs)\n",
        "dtc_fpr, dtc_tpr, _ = roc_curve(y_test, dtc_probs)\n",
        "\n",
        "#calculate AUROC scores\n",
        "r_auc = roc_auc_score(y_test, r_probs)\n",
        "rf_auc = roc_auc_score(y_test, rf_probs)\n",
        "nb_auc = roc_auc_score(y_test, nb_probs)\n",
        "svc_auc = roc_auc_score(y_test, svc_probs)\n",
        "knn_auc = roc_auc_score(y_test, knn_probs)\n",
        "log_auc = roc_auc_score(y_test, logistic_probs)\n",
        "dtc_auc = roc_auc_score(y_test, dtc_probs)"
      ],
      "execution_count": null,
      "outputs": []
    },
    {
      "cell_type": "markdown",
      "metadata": {
        "id": "_ZUSuL1mdjsr",
        "colab_type": "text"
      },
      "source": [
        "##### Plot the ROC curve"
      ]
    },
    {
      "cell_type": "code",
      "metadata": {
        "id": "_jHC3JvzWAe0",
        "colab_type": "code",
        "colab": {
          "base_uri": "https://localhost:8080/",
          "height": 513
        },
        "outputId": "a53479f7-e13a-4287-c582-b5a6ed35556f"
      },
      "source": [
        "#ROC plot\n",
        "fig, ax = plt.subplots(figsize=(10,8),facecolor='white')\n",
        "ax.plot(r_fpr, r_tpr, linestyle='--', label='Random prediction (AUROC = %0.3f)' % r_auc)\n",
        "ax.plot(rf_fpr, rf_tpr, marker='.', label='Random Forest (AUROC = %0.3f)' % rf_auc)\n",
        "ax.plot(nb_fpr, nb_tpr, marker='.', label='Naive Bayes (AUROC = %0.3f)' % nb_auc)\n",
        "ax.plot(svc_fpr, svc_tpr, marker='.', label='SVC (AUROC = %0.3f)' % svc_auc)\n",
        "ax.plot(knn_fpr, knn_tpr, marker='.', label='KNN (AUROC = %0.3f)' % knn_auc)\n",
        "ax.plot(log_fpr, log_tpr, marker='.', label='Logistic Regression (AUROC = %0.3f)' % log_auc)\n",
        "ax.plot(dtc_fpr, dtc_tpr, marker='.', label='Decision Tree (AUROC = %0.3f)' % dtc_auc)\n",
        "\n",
        "# Title\n",
        "plt.title('ROC Plot')\n",
        "# Axis labels\n",
        "plt.xlabel('False Positive Rate')\n",
        "plt.ylabel('True Positive Rate')\n",
        "# Show legend\n",
        "plt.legend() # \n",
        "# Show plot\n",
        "plt.show()"
      ],
      "execution_count": null,
      "outputs": [
        {
          "output_type": "display_data",
          "data": {
            "image/png": "[encoded data removed]",
            "text/plain": [
              "<Figure size 720x576 with 1 Axes>"
            ]
          },
          "metadata": {
            "tags": []
          }
        }
      ]
    },
    {
      "cell_type": "markdown",
      "metadata": {
        "id": "3Bb1MsrZE3jK",
        "colab_type": "text"
      },
      "source": [
        "### E. Evaluation\n",
        "\n",
        "\n",
        "\n"
      ]
    },
    {
      "cell_type": "markdown",
      "metadata": {
        "id": "6CLd9SLmHSsx",
        "colab_type": "text"
      },
      "source": [
        "### Accuracy\n",
        "Accuracy is simply a ratio of correctly predicted observations to total observation. Therefore, a high precision score does not directly indicate that the algorithm with high precision performs best, we also need to look at other parameters to evaluate the performace of the model."
      ]
    },
    {
      "cell_type": "markdown",
      "metadata": {
        "id": "bCrSGIrIJW20",
        "colab_type": "text"
      },
      "source": [
        "<table style='border:1px solid black'>\n",
        "  <tr style='font-size: 14px'>\n",
        "      <th style='text-align: center;border: 1px solid black;'>Algorithms Used</th>\n",
        "      <th style='text-align: center;border: 1px solid black;'>Accuracy Score</th> \n",
        "  </tr>\n",
        "  <tr style='font-size: 14px;'>\n",
        "      <td style='text-align: left;border: 1px solid black;'>Random Forest</td>\n",
        "      <td style='text-align: left;border: 1px solid black;'>0.83</td>\n",
        "  </tr>\n",
        "  <tr style='font-size: 14px;'>\n",
        "      <td style='text-align: left;border: 1px solid black;'>Support Vector Classifier (SVC)</td>\n",
        "      <td style='text-align: left;border: 1px solid black;'>0.72</td>\n",
        "  </tr>\n",
        "  <tr style='font-size: 14px;'>\n",
        "      <td style='text-align: left;border: 1px solid black;'>Naive Bayes</td> \n",
        "      <td style='text-align: left;border: 1px solid black;'>0.75</td> \n",
        "  </tr>\n",
        "  <tr style='font-size: 14px;'>\n",
        "      <td style='text-align: left;border: 1px solid black;'>K-nearest Neighbors</td> \n",
        "      <td style='text-align: left;border: 1px solid black;'>0.71 </td> \n",
        "  </tr>\n",
        "  <tr style='font-size: 14px;'>\n",
        "      <td style='text-align: left;border: 1px solid black;'>Logistic Regression</td> \n",
        "      <td style='text-align: left;border: 1px solid black;'>0.78</td> \n",
        "  </tr>\n",
        "  <tr style='font-size: 14px;'>\n",
        "      <td style='text-align: left;border: 1px solid black;'>Decision Tree Classifier</td> \n",
        "      <td style='text-align: left;border: 1px solid black;'>0.78</td> \n",
        "  </tr>\n",
        "</table>"
      ]
    },
    {
      "cell_type": "markdown",
      "metadata": {
        "id": "lMMUFZZHMVNF",
        "colab_type": "text"
      },
      "source": [
        "### Precision\n",
        "Precision is the ratio of the correctly predicted positive observation to the total predicted positive observations. It is important to study the performance of the algorithm in predicting the labels."
      ]
    },
    {
      "cell_type": "markdown",
      "metadata": {
        "id": "pxavrlu1SdZ8",
        "colab_type": "text"
      },
      "source": [
        "<table style='border:1px solid black'>\n",
        "  <tr style='font-size: 14px'>\n",
        "      <th style='text-align: center;border: 1px solid black;'>Algorithms Used</th>\n",
        "      <th style='text-align: center;border: 1px solid black;'>Precision Score</th> \n",
        "  </tr>\n",
        "  <tr style='font-size: 14px;'>\n",
        "      <td style='text-align: left;border: 1px solid black;'>Random Forest</td>\n",
        "      <td style='text-align: left;border: 1px solid black;'>0.80</td>\n",
        "  </tr>\n",
        "  <tr style='font-size: 14px;'>\n",
        "      <td style='text-align: left;border: 1px solid black;'>Support Vector Classifier (SVC)</td>\n",
        "      <td style='text-align: left;border: 1px solid black;'>0.75</td>\n",
        "  </tr>\n",
        "  <tr style='font-size: 14px;'>\n",
        "      <td style='text-align: left;border: 1px solid black;'>Naive Bayes</td> \n",
        "      <td style='text-align: left;border: 1px solid black;'>0.71</td> \n",
        "  </tr>\n",
        "  <tr style='font-size: 14px;'>\n",
        "      <td style='text-align: left;border: 1px solid black;'>K-nearest Neighbors</td> \n",
        "      <td style='text-align: left;border: 1px solid black;'>0.70 </td> \n",
        "  </tr>\n",
        "  <tr style='font-size: 14px;'>\n",
        "      <td style='text-align: left;border: 1px solid black;'>Logistic Regression</td> \n",
        "      <td style='text-align: left;border: 1px solid black;'>0.76</td> \n",
        "  </tr>\n",
        "  <tr style='font-size: 14px;'>\n",
        "      <td style='text-align: left;border: 1px solid black;'>Decision Tree Classifier</td> \n",
        "      <td style='text-align: left;border: 1px solid black;'>0.77</td> \n",
        "  </tr>\n",
        "</table>"
      ]
    },
    {
      "cell_type": "markdown",
      "metadata": {
        "id": "qNMVDVAlSrma",
        "colab_type": "text"
      },
      "source": [
        "### Recall\n",
        "Recall is the ratio of correctly predicted the positive observation to all the observations in actual class."
      ]
    },
    {
      "cell_type": "markdown",
      "metadata": {
        "id": "65b5-mA9U1XY",
        "colab_type": "text"
      },
      "source": [
        "<table style='border:1px solid black'>\n",
        "  <tr style='font-size: 14px'>\n",
        "      <th style='text-align: center;border: 1px solid black;'>Algorithms Used</th>\n",
        "      <th style='text-align: center;border: 1px solid black;'>Recall Score</th> \n",
        "  </tr>\n",
        "  <tr style='font-size: 14px;'>\n",
        "      <td style='text-align: left;border: 1px solid black;'>Random Forest</td>\n",
        "      <td style='text-align: left;border: 1px solid black;'>0.84</td>\n",
        "  </tr>\n",
        "  <tr style='font-size: 14px;'>\n",
        "      <td style='text-align: left;border: 1px solid black;'>Support Vector Classifier (SVC)</td>\n",
        "      <td style='text-align: left;border: 1px solid black;'>0.58</td>\n",
        "  </tr>\n",
        "  <tr style='font-size: 14px;'>\n",
        "      <td style='text-align: left;border: 1px solid black;'>Naive Bayes</td> \n",
        "      <td style='text-align: left;border: 1px solid black;'>0.78</td> \n",
        "  </tr>\n",
        "  <tr style='font-size: 14px;'>\n",
        "      <td style='text-align: left;border: 1px solid black;'>K-nearest Neighbors</td> \n",
        "      <td style='text-align: left;border: 1px solid black;'>0.65 </td> \n",
        "  </tr>\n",
        "  <tr style='font-size: 14px;'>\n",
        "      <td style='text-align: left;border: 1px solid black;'>Logistic Regression</td> \n",
        "      <td style='text-align: left;border: 1px solid black;'>0.75</td> \n",
        "  </tr>\n",
        "  <tr style='font-size: 14px;'>\n",
        "      <td style='text-align: left;border: 1px solid black;'>Decision Tree Classifier</td> \n",
        "      <td style='text-align: left;border: 1px solid black;'>0.75</td> \n",
        "  </tr>\n",
        "</table>"
      ]
    },
    {
      "cell_type": "markdown",
      "metadata": {
        "id": "R6VrKIB3VMkT",
        "colab_type": "text"
      },
      "source": [
        "### F1 Score\n",
        "F1 score are the weighted average of precision and recall. Thus, this score takes into account both false positives and false negatives. When have an uneven class distribution, F1 score is more useful than accuracy."
      ]
    },
    {
      "cell_type": "markdown",
      "metadata": {
        "id": "VVUHKLaHW9R0",
        "colab_type": "text"
      },
      "source": [
        "<table style='border:1px solid black'>\n",
        "  <tr style='font-size: 14px'>\n",
        "      <th style='text-align: center;border: 1px solid black;'>Algorithms Used</th>\n",
        "      <th style='text-align: center;border: 1px solid black;'>F1 Score</th> \n",
        "  </tr>\n",
        "  <tr style='font-size: 14px;'>\n",
        "      <td style='text-align: left;border: 1px solid black;'>Random Forest</td>\n",
        "      <td style='text-align: left;border: 1px solid black;'>0.82</td>\n",
        "  </tr>\n",
        "  <tr style='font-size: 14px;'>\n",
        "      <td style='text-align: left;border: 1px solid black;'>Support Vector Classifier (SVC)</td>\n",
        "      <td style='text-align: left;border: 1px solid black;'>0.65</td>\n",
        "  </tr>\n",
        "  <tr style='font-size: 14px;'>\n",
        "      <td style='text-align: left;border: 1px solid black;'>Naive Bayes</td> \n",
        "      <td style='text-align: left;border: 1px solid black;'>0.74</td> \n",
        "  </tr>\n",
        "  <tr style='font-size: 14px;'>\n",
        "      <td style='text-align: left;border: 1px solid black;'>K-nearest Neighbors</td> \n",
        "      <td style='text-align: left;border: 1px solid black;'>0.68 </td> \n",
        "  </tr>\n",
        "  <tr style='font-size: 14px;'>\n",
        "      <td style='text-align: left;border: 1px solid black;'>Logistic Regression</td> \n",
        "      <td style='text-align: left;border: 1px solid black;'>0.76 </td> \n",
        "  </tr>\n",
        "  <tr style='font-size: 14px;'>\n",
        "      <td style='text-align: left;border: 1px solid black;'>Decision Tree Classifier</td> \n",
        "      <td style='text-align: left;border: 1px solid black;'>0.76</td> \n",
        "  </tr>\n",
        "</table>"
      ]
    },
    {
      "cell_type": "markdown",
      "metadata": {
        "id": "3OGhY9H85Q7U",
        "colab_type": "text"
      },
      "source": [
        "###F. Deployment\n",
        "\n",
        "Generally, there are several ways to deploy a model. As this model is to predict the potential client which going to subscribe a term deposit for the next marketing campaign, the main requirement for the deployment is having large amount of client data. By having these data, the bank is able to have a more accurate prediction to get their potential customer which able to bring more revenue to the company.\n",
        "\n",
        "For the deployment tools, Jenkins is recommended. This is because when a model is going to deploy, the version control of the code must be done and checked in order to build and test. For version control, GitHub would be one of the choice and most importantly, GitHub is work with Jenkins. Thus, Jenkins will be the best choice for the company to deploy the model quickly and efficiently that brings benefit from its core functionality in future.\n"
      ]
    },
    {
      "cell_type": "markdown",
      "metadata": {
        "id": "LIa1nytNhrLj",
        "colab_type": "text"
      },
      "source": [
        "###G. Conclusion\n"
      ]
    },
    {
      "cell_type": "markdown",
      "metadata": {
        "id": "n7bJ8k26y-J0",
        "colab_type": "text"
      },
      "source": [
        "As Random Forest have a accuracy of 0.83, precision of 0.80, recall of 0.84 and F1 socre of 0.82, which have the highest accuracy, precision, recall and F1 score compared to others. Besides, ROC curve will tell us how good the algorithms is for distinguishing the given classes in terms of the predicted probability,therefore in our ROC curve the Random forest have the higest AUROC compared to others which have 0.902, it is consider as very good. Based on the result, the Random Forest have been choosen to implement in order can play a more effective role in future marketing campaigns."
      ]
    },
    {
      "cell_type": "markdown",
      "metadata": {
        "id": "G-IVn7EIiviP",
        "colab_type": "text"
      },
      "source": [
        "##### **Advantages and Weaknesses/ Limitations of Algorithms Used**\n",
        "\n",
        "##### Random Forest \n",
        "*  Random Forest is one of the most accurate learning algorithms available. The advantages of Random Forest is it will produces a highly accurate classifier for many datasets.Besides, it runs efficiently on large databases and its produces an internal unbiased estimated of the generalization error as forest construction progress.\n",
        "\n",
        "* The weakness of Random Forest is it is not do a good job for regression problem as it does not gives precise continuous nature prediction. Besides, we have very little control on what the random forest does, we only can try different parameters and random seeds.\n"
      ]
    },
    {
      "cell_type": "markdown",
      "metadata": {
        "id": "CHF28IO0lxrP",
        "colab_type": "text"
      },
      "source": [
        "##### Support Vector Classifier (SVC)\n",
        "* The advantages of SVC is stable because it does not have greatly affect when the data have small changes. Moreover, SVC can hanlde the non-linear data efficiently by using kernel trick.\n",
        "\n",
        "* The limitations of SVC is not suitable for large datasets because it will cause take longer training time.\n"
      ]
    },
    {
      "cell_type": "markdown",
      "metadata": {
        "id": "NP9gWkEdoBjV",
        "colab_type": "text"
      },
      "source": [
        "##### Naive Bayes\n",
        "* The advantages of Naive Bayes is does not require as much training data and it is simple and easy to implement. Besides, Naive Bayes can be used to make real-time predictions because it is fast.   \n",
        "\n",
        "* The limitation of Naive Bayes is that it assumes indepent predictive characteristics. Naive Bayes will implicitly assumes that all the attributes are independent to each other. "
      ]
    },
    {
      "cell_type": "markdown",
      "metadata": {
        "id": "ylgdxRpgvhdi",
        "colab_type": "text"
      },
      "source": [
        "##### K-Nearest Neighbors\n",
        "*   The advantages of KNN is it have high accuracy so that no need to compore with better-supervised learning model. Although have new data added seamlessly also will not impact the accuracy of the algorithm. Besides, it no need to have assumptions about the data.\n",
        "\n",
        "*   The limitation of KNN is it may be slow in the prediction stage if the dataset is large and it also need high memory to store all of the training data. Besides, it is sentivite to the scale of the data and irrelevant features. \n",
        "\n"
      ]
    },
    {
      "cell_type": "markdown",
      "metadata": {
        "id": "EseMzYt7wXFN",
        "colab_type": "text"
      },
      "source": [
        "##### Logistic Regression\n",
        "* The advantages of Logistic Regression is very efficient because it does not require too many computational resources, and does not require input features to be scaled. Besides, Logistic Regression is easy to implement and very efficient to train.\n",
        "\n",
        "*   The limitation of Logistic Regression is not easy to capture complex relationships. Moreover, Logistic Regression need a large dataset and sufficient training examples for all categories it needs to identify."
      ]
    },
    {
      "cell_type": "markdown",
      "metadata": {
        "id": "YrIWwZwdwWmF",
        "colab_type": "text"
      },
      "source": [
        "##### Decision Tree Classifier\n",
        "\n",
        "*   The advantages of Decision Tree Classifier is require less effort for data preparation during preprocessing compared to others algorithms. Decision Tree Classifier are not require standardization of the data and not require to extend the data. Besides, it does not have significantly affect the decision tree construction process when the data have missing values.\n",
        "\n",
        "*   The limitations of Decision Tree Classifier is it will be more complexity in calculation compared to other algorithms. Besides, it will have large change in the struture when there are only have small change in the data therefore it will causing instability.\n",
        "\n"
      ]
    }
  ]
}